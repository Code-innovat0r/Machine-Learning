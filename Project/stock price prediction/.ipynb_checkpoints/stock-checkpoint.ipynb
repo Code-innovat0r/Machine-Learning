{
 "cells": [
  {
   "cell_type": "code",
   "execution_count": 1,
   "id": "d1d532ca-33b0-4689-bbf6-e3236b226e9f",
   "metadata": {},
   "outputs": [],
   "source": [
    "import pandas as pd"
   ]
  },
  {
   "cell_type": "code",
   "execution_count": 2,
   "id": "8d3671bd-7358-492c-a7e7-621328b3f407",
   "metadata": {},
   "outputs": [],
   "source": [
    "data = pd.read_csv(\"Untitled spreadsheet.csv\")"
   ]
  },
  {
   "cell_type": "code",
   "execution_count": 3,
   "id": "2a80dbdd-1234-4cfe-94ce-5e1e271149e6",
   "metadata": {},
   "outputs": [
    {
     "data": {
      "text/plain": [
       "(1944, 5)"
      ]
     },
     "execution_count": 3,
     "metadata": {},
     "output_type": "execute_result"
    }
   ],
   "source": [
    "data.shape"
   ]
  },
  {
   "cell_type": "code",
   "execution_count": 4,
   "id": "05ffb199-d652-4a24-9dd6-403a187a7428",
   "metadata": {},
   "outputs": [
    {
     "data": {
      "text/html": [
       "<div>\n",
       "<style scoped>\n",
       "    .dataframe tbody tr th:only-of-type {\n",
       "        vertical-align: middle;\n",
       "    }\n",
       "\n",
       "    .dataframe tbody tr th {\n",
       "        vertical-align: top;\n",
       "    }\n",
       "\n",
       "    .dataframe thead th {\n",
       "        text-align: right;\n",
       "    }\n",
       "</style>\n",
       "<table border=\"1\" class=\"dataframe\">\n",
       "  <thead>\n",
       "    <tr style=\"text-align: right;\">\n",
       "      <th></th>\n",
       "      <th>Open</th>\n",
       "      <th>High</th>\n",
       "      <th>Low</th>\n",
       "      <th>Close</th>\n",
       "      <th>Volume</th>\n",
       "    </tr>\n",
       "  </thead>\n",
       "  <tbody>\n",
       "    <tr>\n",
       "      <th>0</th>\n",
       "      <td>220.08</td>\n",
       "      <td>264.08</td>\n",
       "      <td>217.50</td>\n",
       "      <td>264.08</td>\n",
       "      <td>27617037</td>\n",
       "    </tr>\n",
       "    <tr>\n",
       "      <th>1</th>\n",
       "      <td>286.00</td>\n",
       "      <td>287.50</td>\n",
       "      <td>264.83</td>\n",
       "      <td>271.15</td>\n",
       "      <td>9601359</td>\n",
       "    </tr>\n",
       "    <tr>\n",
       "      <th>2</th>\n",
       "      <td>268.77</td>\n",
       "      <td>274.00</td>\n",
       "      <td>264.50</td>\n",
       "      <td>268.10</td>\n",
       "      <td>3241033</td>\n",
       "    </tr>\n",
       "    <tr>\n",
       "      <th>3</th>\n",
       "      <td>267.40</td>\n",
       "      <td>273.48</td>\n",
       "      <td>266.10</td>\n",
       "      <td>268.77</td>\n",
       "      <td>2165189</td>\n",
       "    </tr>\n",
       "    <tr>\n",
       "      <th>4</th>\n",
       "      <td>267.50</td>\n",
       "      <td>268.70</td>\n",
       "      <td>259.00</td>\n",
       "      <td>267.23</td>\n",
       "      <td>2393064</td>\n",
       "    </tr>\n",
       "    <tr>\n",
       "      <th>...</th>\n",
       "      <td>...</td>\n",
       "      <td>...</td>\n",
       "      <td>...</td>\n",
       "      <td>...</td>\n",
       "      <td>...</td>\n",
       "    </tr>\n",
       "    <tr>\n",
       "      <th>1938</th>\n",
       "      <td>2143.30</td>\n",
       "      <td>2182.00</td>\n",
       "      <td>2044.10</td>\n",
       "      <td>2091.20</td>\n",
       "      <td>3050446</td>\n",
       "    </tr>\n",
       "    <tr>\n",
       "      <th>1939</th>\n",
       "      <td>2104.90</td>\n",
       "      <td>2126.80</td>\n",
       "      <td>2023.10</td>\n",
       "      <td>2044.20</td>\n",
       "      <td>2745762</td>\n",
       "    </tr>\n",
       "    <tr>\n",
       "      <th>1940</th>\n",
       "      <td>2064.50</td>\n",
       "      <td>2093.60</td>\n",
       "      <td>2045.80</td>\n",
       "      <td>2065.80</td>\n",
       "      <td>2414088</td>\n",
       "    </tr>\n",
       "    <tr>\n",
       "      <th>1941</th>\n",
       "      <td>2085.00</td>\n",
       "      <td>2092.10</td>\n",
       "      <td>2036.60</td>\n",
       "      <td>2045.20</td>\n",
       "      <td>1893630</td>\n",
       "    </tr>\n",
       "    <tr>\n",
       "      <th>1942</th>\n",
       "      <td>2055.40</td>\n",
       "      <td>2059.90</td>\n",
       "      <td>2005.00</td>\n",
       "      <td>2025.30</td>\n",
       "      <td>1503047</td>\n",
       "    </tr>\n",
       "  </tbody>\n",
       "</table>\n",
       "<p>1943 rows × 5 columns</p>\n",
       "</div>"
      ],
      "text/plain": [
       "         Open     High      Low    Close    Volume\n",
       "0      220.08   264.08   217.50   264.08  27617037\n",
       "1      286.00   287.50   264.83   271.15   9601359\n",
       "2      268.77   274.00   264.50   268.10   3241033\n",
       "3      267.40   273.48   266.10   268.77   2165189\n",
       "4      267.50   268.70   259.00   267.23   2393064\n",
       "...       ...      ...      ...      ...       ...\n",
       "1938  2143.30  2182.00  2044.10  2091.20   3050446\n",
       "1939  2104.90  2126.80  2023.10  2044.20   2745762\n",
       "1940  2064.50  2093.60  2045.80  2065.80   2414088\n",
       "1941  2085.00  2092.10  2036.60  2045.20   1893630\n",
       "1942  2055.40  2059.90  2005.00  2025.30   1503047\n",
       "\n",
       "[1943 rows x 5 columns]"
      ]
     },
     "execution_count": 4,
     "metadata": {},
     "output_type": "execute_result"
    }
   ],
   "source": [
    "data.head(-1)"
   ]
  },
  {
   "cell_type": "code",
   "execution_count": 5,
   "id": "9c85b667-6d56-485f-8954-26a546d53fc1",
   "metadata": {},
   "outputs": [
    {
     "data": {
      "text/plain": [
       "RangeIndex(start=0, stop=1944, step=1)"
      ]
     },
     "execution_count": 5,
     "metadata": {},
     "output_type": "execute_result"
    }
   ],
   "source": [
    "data.index"
   ]
  },
  {
   "cell_type": "code",
   "execution_count": 6,
   "id": "4a8d944a-cd37-4883-9242-0491643a524e",
   "metadata": {},
   "outputs": [
    {
     "data": {
      "text/plain": [
       "<Axes: >"
      ]
     },
     "execution_count": 6,
     "metadata": {},
     "output_type": "execute_result"
    },
    {
     "data": {
      "image/png": "[encoded data removed]",
      "text/plain": [
       "<Figure size 640x480 with 1 Axes>"
      ]
     },
     "metadata": {},
     "output_type": "display_data"
    }
   ],
   "source": [
    "data.plot.line(y=\"Close\", use_index=True)"
   ]
  },
  {
   "cell_type": "code",
   "execution_count": 7,
   "id": "d387f386-d8dc-4ec9-9ba9-f25e4fbcd066",
   "metadata": {},
   "outputs": [],
   "source": [
    "df = data.reset_index()['Close']"
   ]
  },
  {
   "cell_type": "code",
   "execution_count": 8,
   "id": "99842831-ee96-44a1-85ad-ca182e876dd2",
   "metadata": {},
   "outputs": [
    {
     "data": {
      "text/plain": [
       "0        264.08\n",
       "1        271.15\n",
       "2        268.10\n",
       "3        268.77\n",
       "4        267.23\n",
       "         ...   \n",
       "1939    2044.20\n",
       "1940    2065.80\n",
       "1941    2045.20\n",
       "1942    2025.30\n",
       "1943    2015.40\n",
       "Name: Close, Length: 1944, dtype: float64"
      ]
     },
     "execution_count": 8,
     "metadata": {},
     "output_type": "execute_result"
    }
   ],
   "source": [
    "df"
   ]
  },
  {
   "cell_type": "code",
   "execution_count": 9,
   "id": "31727d69-cd60-4fbb-b2b1-7e29e9f65d78",
   "metadata": {},
   "outputs": [],
   "source": [
    "import numpy as np"
   ]
  },
  {
   "cell_type": "code",
   "execution_count": 10,
   "id": "9121fb1d-3f06-4efe-ba79-dddfe4739fbd",
   "metadata": {},
   "outputs": [],
   "source": [
    "from sklearn.preprocessing import MinMaxScaler\n",
    "scalar = MinMaxScaler(feature_range=(0,1))\n",
    "df1 = scalar.fit_transform(np.array(df).reshape(-1,1))"
   ]
  },
  {
   "cell_type": "code",
   "execution_count": 11,
   "id": "8820cd29-956f-4f69-b40d-d440f49e03b1",
   "metadata": {},
   "outputs": [
    {
     "data": {
      "text/plain": [
       "array([[0.05664102],\n",
       "       [0.05920671],\n",
       "       [0.05809987],\n",
       "       ...,\n",
       "       [0.70300479],\n",
       "       [0.69578313],\n",
       "       [0.69219045]])"
      ]
     },
     "execution_count": 11,
     "metadata": {},
     "output_type": "execute_result"
    }
   ],
   "source": [
    "df1"
   ]
  },
  {
   "cell_type": "code",
   "execution_count": 12,
   "id": "385fe01f-91ca-4e52-9d83-55b8bdf5d2d2",
   "metadata": {},
   "outputs": [
    {
     "data": {
      "text/plain": [
       "(1944, 1)"
      ]
     },
     "execution_count": 12,
     "metadata": {},
     "output_type": "execute_result"
    }
   ],
   "source": [
    "df1.shape"
   ]
  },
  {
   "cell_type": "code",
   "execution_count": 13,
   "id": "e566cba5-2cc9-46d5-8a42-c3df8ebb351a",
   "metadata": {},
   "outputs": [],
   "source": [
    "#splitting the data into the train test split\n",
    "trainSize = int(len(df1)*0.80)\n",
    "testSize = len(df1)-trainSize\n",
    "train_data, test_data = df1[0:trainSize,:], df1[trainSize:len(df1),:]"
   ]
  },
  {
   "cell_type": "code",
   "execution_count": 14,
   "id": "cd230483-6d42-4a5d-afc9-a2bb94abd2a5",
   "metadata": {},
   "outputs": [],
   "source": [
    "import numpy as np\n",
    "# convert the arrays of values into a dataset matrix\n",
    "# time_step is tell based on previos this days predict the next day simply making the dependent and independent variables\n",
    "def create_dataset(dataset, time_step = 1):\n",
    "    dataX, dataY = [], []\n",
    "    for i in range(len(dataset) - time_step-1):\n",
    "        a = dataset[i:(i+time_step),0]\n",
    "        dataX.append(a)\n",
    "        dataY.append(dataset[i+time_step, 0])\n",
    "    return np.array(dataX), np.array(dataY)"
   ]
  },
  {
   "cell_type": "code",
   "execution_count": 15,
   "id": "4f66035a-7bae-435d-bb49-3034abb69917",
   "metadata": {},
   "outputs": [],
   "source": [
    "time_step = 100\n",
    "x_train, y_train = create_dataset(train_data, time_step)\n",
    "x_test, y_test = create_dataset(test_data, time_step)"
   ]
  },
  {
   "cell_type": "code",
   "execution_count": 16,
   "id": "8218abbc-cd3b-457c-aa68-3d67daecd82f",
   "metadata": {},
   "outputs": [],
   "source": [
    "# reshape input to be [sample,  time steps,  features] which is required for LSTM\n",
    "x_train = x_train.reshape(x_train.shape[0], x_train.shape[1], 1)\n",
    "x_test = x_test.reshape(x_test.shape[0], x_test.shape[1], 1)"
   ]
  },
  {
   "cell_type": "code",
   "execution_count": 17,
   "id": "97fac1c8-353e-4504-a53c-739fa7d92c9a",
   "metadata": {},
   "outputs": [],
   "source": [
    "# create the LSTM model\n",
    "from tensorflow.keras import Sequential\n",
    "from tensorflow.keras.layers import Dense\n",
    "from tensorflow.keras.layers import LSTM"
   ]
  },
  {
   "cell_type": "code",
   "execution_count": 18,
   "id": "14eb2152-df66-46aa-a822-e35912821e1b",
   "metadata": {},
   "outputs": [
    {
     "name": "stderr",
     "output_type": "stream",
     "text": [
      "C:\\Users\\Paras\\New folder\\Lib\\site-packages\\keras\\src\\layers\\rnn\\rnn.py:199: UserWarning: Do not pass an `input_shape`/`input_dim` argument to a layer. When using Sequential models, prefer using an `Input(shape)` object as the first layer in the model instead.\n",
      "  super().__init__(**kwargs)\n"
     ]
    }
   ],
   "source": [
    "model = Sequential()\n",
    "model.add(LSTM(50, return_sequences=True, input_shape=(100, 1)))\n",
    "model.add(LSTM(50, return_sequences=True))\n",
    "model.add(LSTM(50))\n",
    "model.add(Dense(1))\n",
    "model.compile(loss = 'mean_squared_error', optimizer='adam')"
   ]
  },
  {
   "cell_type": "code",
   "execution_count": 19,
   "id": "13d918d5-1ee4-4e51-8bf7-82663630f169",
   "metadata": {},
   "outputs": [
    {
     "data": {
      "text/html": [
       "<pre style=\"white-space:pre;overflow-x:auto;line-height:normal;font-family:Menlo,'DejaVu Sans Mono',consolas,'Courier New',monospace\"><span style=\"font-weight: bold\">Model: \"sequential\"</span>\n",
       "</pre>\n"
      ],
      "text/plain": [
       "\u001b[1mModel: \"sequential\"\u001b[0m\n"
      ]
     },
     "metadata": {},
     "output_type": "display_data"
    },
    {
     "data": {
      "text/html": [
       "<pre style=\"white-space:pre;overflow-x:auto;line-height:normal;font-family:Menlo,'DejaVu Sans Mono',consolas,'Courier New',monospace\">┏━━━━━━━━━━━━━━━━━━━━━━━━━━━━━━━━━━━━━━┳━━━━━━━━━━━━━━━━━━━━━━━━━━━━━┳━━━━━━━━━━━━━━━━━┓\n",
       "┃<span style=\"font-weight: bold\"> Layer (type)                         </span>┃<span style=\"font-weight: bold\"> Output Shape                </span>┃<span style=\"font-weight: bold\">         Param # </span>┃\n",
       "┡━━━━━━━━━━━━━━━━━━━━━━━━━━━━━━━━━━━━━━╇━━━━━━━━━━━━━━━━━━━━━━━━━━━━━╇━━━━━━━━━━━━━━━━━┩\n",
       "│ lstm (<span style=\"color: #0087ff; text-decoration-color: #0087ff\">LSTM</span>)                          │ (<span style=\"color: #00d7ff; text-decoration-color: #00d7ff\">None</span>, <span style=\"color: #00af00; text-decoration-color: #00af00\">100</span>, <span style=\"color: #00af00; text-decoration-color: #00af00\">50</span>)             │          <span style=\"color: #00af00; text-decoration-color: #00af00\">10,400</span> │\n",
       "├──────────────────────────────────────┼─────────────────────────────┼─────────────────┤\n",
       "│ lstm_1 (<span style=\"color: #0087ff; text-decoration-color: #0087ff\">LSTM</span>)                        │ (<span style=\"color: #00d7ff; text-decoration-color: #00d7ff\">None</span>, <span style=\"color: #00af00; text-decoration-color: #00af00\">100</span>, <span style=\"color: #00af00; text-decoration-color: #00af00\">50</span>)             │          <span style=\"color: #00af00; text-decoration-color: #00af00\">20,200</span> │\n",
       "├──────────────────────────────────────┼─────────────────────────────┼─────────────────┤\n",
       "│ lstm_2 (<span style=\"color: #0087ff; text-decoration-color: #0087ff\">LSTM</span>)                        │ (<span style=\"color: #00d7ff; text-decoration-color: #00d7ff\">None</span>, <span style=\"color: #00af00; text-decoration-color: #00af00\">50</span>)                  │          <span style=\"color: #00af00; text-decoration-color: #00af00\">20,200</span> │\n",
       "├──────────────────────────────────────┼─────────────────────────────┼─────────────────┤\n",
       "│ dense (<span style=\"color: #0087ff; text-decoration-color: #0087ff\">Dense</span>)                        │ (<span style=\"color: #00d7ff; text-decoration-color: #00d7ff\">None</span>, <span style=\"color: #00af00; text-decoration-color: #00af00\">1</span>)                   │              <span style=\"color: #00af00; text-decoration-color: #00af00\">51</span> │\n",
       "└──────────────────────────────────────┴─────────────────────────────┴─────────────────┘\n",
       "</pre>\n"
      ],
      "text/plain": [
       "┏━━━━━━━━━━━━━━━━━━━━━━━━━━━━━━━━━━━━━━┳━━━━━━━━━━━━━━━━━━━━━━━━━━━━━┳━━━━━━━━━━━━━━━━━┓\n",
       "┃\u001b[1m \u001b[0m\u001b[1mLayer (type)                        \u001b[0m\u001b[1m \u001b[0m┃\u001b[1m \u001b[0m\u001b[1mOutput Shape               \u001b[0m\u001b[1m \u001b[0m┃\u001b[1m \u001b[0m\u001b[1m        Param #\u001b[0m\u001b[1m \u001b[0m┃\n",
       "┡━━━━━━━━━━━━━━━━━━━━━━━━━━━━━━━━━━━━━━╇━━━━━━━━━━━━━━━━━━━━━━━━━━━━━╇━━━━━━━━━━━━━━━━━┩\n",
       "│ lstm (\u001b[38;5;33mLSTM\u001b[0m)                          │ (\u001b[38;5;45mNone\u001b[0m, \u001b[38;5;34m100\u001b[0m, \u001b[38;5;34m50\u001b[0m)             │          \u001b[38;5;34m10,400\u001b[0m │\n",
       "├──────────────────────────────────────┼─────────────────────────────┼─────────────────┤\n",
       "│ lstm_1 (\u001b[38;5;33mLSTM\u001b[0m)                        │ (\u001b[38;5;45mNone\u001b[0m, \u001b[38;5;34m100\u001b[0m, \u001b[38;5;34m50\u001b[0m)             │          \u001b[38;5;34m20,200\u001b[0m │\n",
       "├──────────────────────────────────────┼─────────────────────────────┼─────────────────┤\n",
       "│ lstm_2 (\u001b[38;5;33mLSTM\u001b[0m)                        │ (\u001b[38;5;45mNone\u001b[0m, \u001b[38;5;34m50\u001b[0m)                  │          \u001b[38;5;34m20,200\u001b[0m │\n",
       "├──────────────────────────────────────┼─────────────────────────────┼─────────────────┤\n",
       "│ dense (\u001b[38;5;33mDense\u001b[0m)                        │ (\u001b[38;5;45mNone\u001b[0m, \u001b[38;5;34m1\u001b[0m)                   │              \u001b[38;5;34m51\u001b[0m │\n",
       "└──────────────────────────────────────┴─────────────────────────────┴─────────────────┘\n"
      ]
     },
     "metadata": {},
     "output_type": "display_data"
    },
    {
     "data": {
      "text/html": [
       "<pre style=\"white-space:pre;overflow-x:auto;line-height:normal;font-family:Menlo,'DejaVu Sans Mono',consolas,'Courier New',monospace\"><span style=\"font-weight: bold\"> Total params: </span><span style=\"color: #00af00; text-decoration-color: #00af00\">50,851</span> (198.64 KB)\n",
       "</pre>\n"
      ],
      "text/plain": [
       "\u001b[1m Total params: \u001b[0m\u001b[38;5;34m50,851\u001b[0m (198.64 KB)\n"
      ]
     },
     "metadata": {},
     "output_type": "display_data"
    },
    {
     "data": {
      "text/html": [
       "<pre style=\"white-space:pre;overflow-x:auto;line-height:normal;font-family:Menlo,'DejaVu Sans Mono',consolas,'Courier New',monospace\"><span style=\"font-weight: bold\"> Trainable params: </span><span style=\"color: #00af00; text-decoration-color: #00af00\">50,851</span> (198.64 KB)\n",
       "</pre>\n"
      ],
      "text/plain": [
       "\u001b[1m Trainable params: \u001b[0m\u001b[38;5;34m50,851\u001b[0m (198.64 KB)\n"
      ]
     },
     "metadata": {},
     "output_type": "display_data"
    },
    {
     "data": {
      "text/html": [
       "<pre style=\"white-space:pre;overflow-x:auto;line-height:normal;font-family:Menlo,'DejaVu Sans Mono',consolas,'Courier New',monospace\"><span style=\"font-weight: bold\"> Non-trainable params: </span><span style=\"color: #00af00; text-decoration-color: #00af00\">0</span> (0.00 B)\n",
       "</pre>\n"
      ],
      "text/plain": [
       "\u001b[1m Non-trainable params: \u001b[0m\u001b[38;5;34m0\u001b[0m (0.00 B)\n"
      ]
     },
     "metadata": {},
     "output_type": "display_data"
    }
   ],
   "source": [
    "model.summary()"
   ]
  },
  {
   "cell_type": "code",
   "execution_count": 20,
   "id": "5ed5bd22-6482-4877-9c3c-380a08b13e89",
   "metadata": {
    "scrolled": true
   },
   "outputs": [
    {
     "name": "stdout",
     "output_type": "stream",
     "text": [
      "Epoch 1/100\n",
      "\u001b[1m23/23\u001b[0m \u001b[32m━━━━━━━━━━━━━━━━━━━━\u001b[0m\u001b[37m\u001b[0m \u001b[1m13s\u001b[0m 278ms/step - loss: 0.0010 - val_loss: 0.0077\n",
      "Epoch 2/100\n",
      "\u001b[1m23/23\u001b[0m \u001b[32m━━━━━━━━━━━━━━━━━━━━\u001b[0m\u001b[37m\u001b[0m \u001b[1m5s\u001b[0m 226ms/step - loss: 7.2167e-05 - val_loss: 0.0069\n",
      "Epoch 3/100\n",
      "\u001b[1m23/23\u001b[0m \u001b[32m━━━━━━━━━━━━━━━━━━━━\u001b[0m\u001b[37m\u001b[0m \u001b[1m3s\u001b[0m 144ms/step - loss: 4.9608e-05 - val_loss: 0.0071\n",
      "Epoch 4/100\n",
      "\u001b[1m23/23\u001b[0m \u001b[32m━━━━━━━━━━━━━━━━━━━━\u001b[0m\u001b[37m\u001b[0m \u001b[1m5s\u001b[0m 237ms/step - loss: 4.5183e-05 - val_loss: 0.0093\n",
      "Epoch 5/100\n",
      "\u001b[1m23/23\u001b[0m \u001b[32m━━━━━━━━━━━━━━━━━━━━\u001b[0m\u001b[37m\u001b[0m \u001b[1m3s\u001b[0m 142ms/step - loss: 3.6417e-05 - val_loss: 0.0055\n",
      "Epoch 6/100\n",
      "\u001b[1m23/23\u001b[0m \u001b[32m━━━━━━━━━━━━━━━━━━━━\u001b[0m\u001b[37m\u001b[0m \u001b[1m7s\u001b[0m 294ms/step - loss: 3.7225e-05 - val_loss: 0.0067\n",
      "Epoch 7/100\n",
      "\u001b[1m23/23\u001b[0m \u001b[32m━━━━━━━━━━━━━━━━━━━━\u001b[0m\u001b[37m\u001b[0m \u001b[1m11s\u001b[0m 484ms/step - loss: 3.4596e-05 - val_loss: 0.0065\n",
      "Epoch 8/100\n",
      "\u001b[1m23/23\u001b[0m \u001b[32m━━━━━━━━━━━━━━━━━━━━\u001b[0m\u001b[37m\u001b[0m \u001b[1m7s\u001b[0m 286ms/step - loss: 3.3829e-05 - val_loss: 0.0044\n",
      "Epoch 9/100\n",
      "\u001b[1m23/23\u001b[0m \u001b[32m━━━━━━━━━━━━━━━━━━━━\u001b[0m\u001b[37m\u001b[0m \u001b[1m7s\u001b[0m 328ms/step - loss: 4.0185e-05 - val_loss: 0.0037\n",
      "Epoch 10/100\n",
      "\u001b[1m23/23\u001b[0m \u001b[32m━━━━━━━━━━━━━━━━━━━━\u001b[0m\u001b[37m\u001b[0m \u001b[1m8s\u001b[0m 335ms/step - loss: 2.8874e-05 - val_loss: 0.0053\n",
      "Epoch 11/100\n",
      "\u001b[1m23/23\u001b[0m \u001b[32m━━━━━━━━━━━━━━━━━━━━\u001b[0m\u001b[37m\u001b[0m \u001b[1m8s\u001b[0m 370ms/step - loss: 2.2736e-05 - val_loss: 0.0033\n",
      "Epoch 12/100\n",
      "\u001b[1m23/23\u001b[0m \u001b[32m━━━━━━━━━━━━━━━━━━━━\u001b[0m\u001b[37m\u001b[0m \u001b[1m7s\u001b[0m 287ms/step - loss: 2.7411e-05 - val_loss: 0.0037\n",
      "Epoch 13/100\n",
      "\u001b[1m23/23\u001b[0m \u001b[32m━━━━━━━━━━━━━━━━━━━━\u001b[0m\u001b[37m\u001b[0m \u001b[1m7s\u001b[0m 274ms/step - loss: 2.9258e-05 - val_loss: 0.0032\n",
      "Epoch 14/100\n",
      "\u001b[1m23/23\u001b[0m \u001b[32m━━━━━━━━━━━━━━━━━━━━\u001b[0m\u001b[37m\u001b[0m \u001b[1m11s\u001b[0m 300ms/step - loss: 2.7353e-05 - val_loss: 0.0036\n",
      "Epoch 15/100\n",
      "\u001b[1m23/23\u001b[0m \u001b[32m━━━━━━━━━━━━━━━━━━━━\u001b[0m\u001b[37m\u001b[0m \u001b[1m6s\u001b[0m 251ms/step - loss: 1.9887e-05 - val_loss: 0.0034\n",
      "Epoch 16/100\n",
      "\u001b[1m23/23\u001b[0m \u001b[32m━━━━━━━━━━━━━━━━━━━━\u001b[0m\u001b[37m\u001b[0m \u001b[1m6s\u001b[0m 267ms/step - loss: 2.4590e-05 - val_loss: 0.0030\n",
      "Epoch 17/100\n",
      "\u001b[1m23/23\u001b[0m \u001b[32m━━━━━━━━━━━━━━━━━━━━\u001b[0m\u001b[37m\u001b[0m \u001b[1m5s\u001b[0m 224ms/step - loss: 2.5055e-05 - val_loss: 0.0045\n",
      "Epoch 18/100\n",
      "\u001b[1m23/23\u001b[0m \u001b[32m━━━━━━━━━━━━━━━━━━━━\u001b[0m\u001b[37m\u001b[0m \u001b[1m6s\u001b[0m 243ms/step - loss: 2.5132e-05 - val_loss: 0.0044\n",
      "Epoch 19/100\n",
      "\u001b[1m23/23\u001b[0m \u001b[32m━━━━━━━━━━━━━━━━━━━━\u001b[0m\u001b[37m\u001b[0m \u001b[1m7s\u001b[0m 288ms/step - loss: 2.2832e-05 - val_loss: 0.0030\n",
      "Epoch 20/100\n",
      "\u001b[1m23/23\u001b[0m \u001b[32m━━━━━━━━━━━━━━━━━━━━\u001b[0m\u001b[37m\u001b[0m \u001b[1m6s\u001b[0m 260ms/step - loss: 3.5404e-05 - val_loss: 0.0029\n",
      "Epoch 21/100\n",
      "\u001b[1m23/23\u001b[0m \u001b[32m━━━━━━━━━━━━━━━━━━━━\u001b[0m\u001b[37m\u001b[0m \u001b[1m6s\u001b[0m 255ms/step - loss: 2.6789e-05 - val_loss: 0.0041\n",
      "Epoch 22/100\n",
      "\u001b[1m23/23\u001b[0m \u001b[32m━━━━━━━━━━━━━━━━━━━━\u001b[0m\u001b[37m\u001b[0m \u001b[1m6s\u001b[0m 259ms/step - loss: 2.6700e-05 - val_loss: 0.0038\n",
      "Epoch 23/100\n",
      "\u001b[1m23/23\u001b[0m \u001b[32m━━━━━━━━━━━━━━━━━━━━\u001b[0m\u001b[37m\u001b[0m \u001b[1m6s\u001b[0m 245ms/step - loss: 2.3606e-05 - val_loss: 0.0030\n",
      "Epoch 24/100\n",
      "\u001b[1m23/23\u001b[0m \u001b[32m━━━━━━━━━━━━━━━━━━━━\u001b[0m\u001b[37m\u001b[0m \u001b[1m6s\u001b[0m 245ms/step - loss: 2.0217e-05 - val_loss: 0.0029\n",
      "Epoch 25/100\n",
      "\u001b[1m23/23\u001b[0m \u001b[32m━━━━━━━━━━━━━━━━━━━━\u001b[0m\u001b[37m\u001b[0m \u001b[1m6s\u001b[0m 243ms/step - loss: 2.3226e-05 - val_loss: 0.0059\n",
      "Epoch 26/100\n",
      "\u001b[1m23/23\u001b[0m \u001b[32m━━━━━━━━━━━━━━━━━━━━\u001b[0m\u001b[37m\u001b[0m \u001b[1m5s\u001b[0m 223ms/step - loss: 2.4830e-05 - val_loss: 0.0029\n",
      "Epoch 27/100\n",
      "\u001b[1m23/23\u001b[0m \u001b[32m━━━━━━━━━━━━━━━━━━━━\u001b[0m\u001b[37m\u001b[0m \u001b[1m5s\u001b[0m 220ms/step - loss: 2.2872e-05 - val_loss: 0.0027\n",
      "Epoch 28/100\n",
      "\u001b[1m23/23\u001b[0m \u001b[32m━━━━━━━━━━━━━━━━━━━━\u001b[0m\u001b[37m\u001b[0m \u001b[1m5s\u001b[0m 213ms/step - loss: 2.0220e-05 - val_loss: 0.0035\n",
      "Epoch 29/100\n",
      "\u001b[1m23/23\u001b[0m \u001b[32m━━━━━━━━━━━━━━━━━━━━\u001b[0m\u001b[37m\u001b[0m \u001b[1m5s\u001b[0m 226ms/step - loss: 1.8395e-05 - val_loss: 0.0037\n",
      "Epoch 30/100\n",
      "\u001b[1m23/23\u001b[0m \u001b[32m━━━━━━━━━━━━━━━━━━━━\u001b[0m\u001b[37m\u001b[0m \u001b[1m5s\u001b[0m 212ms/step - loss: 2.6575e-05 - val_loss: 0.0031\n",
      "Epoch 31/100\n",
      "\u001b[1m23/23\u001b[0m \u001b[32m━━━━━━━━━━━━━━━━━━━━\u001b[0m\u001b[37m\u001b[0m \u001b[1m5s\u001b[0m 236ms/step - loss: 3.0563e-05 - val_loss: 0.0026\n",
      "Epoch 32/100\n",
      "\u001b[1m23/23\u001b[0m \u001b[32m━━━━━━━━━━━━━━━━━━━━\u001b[0m\u001b[37m\u001b[0m \u001b[1m5s\u001b[0m 221ms/step - loss: 2.3737e-05 - val_loss: 0.0055\n",
      "Epoch 33/100\n",
      "\u001b[1m23/23\u001b[0m \u001b[32m━━━━━━━━━━━━━━━━━━━━\u001b[0m\u001b[37m\u001b[0m \u001b[1m5s\u001b[0m 225ms/step - loss: 2.9770e-05 - val_loss: 0.0025\n",
      "Epoch 34/100\n",
      "\u001b[1m23/23\u001b[0m \u001b[32m━━━━━━━━━━━━━━━━━━━━\u001b[0m\u001b[37m\u001b[0m \u001b[1m6s\u001b[0m 280ms/step - loss: 1.8737e-05 - val_loss: 0.0026\n",
      "Epoch 35/100\n",
      "\u001b[1m23/23\u001b[0m \u001b[32m━━━━━━━━━━━━━━━━━━━━\u001b[0m\u001b[37m\u001b[0m \u001b[1m6s\u001b[0m 244ms/step - loss: 1.5983e-05 - val_loss: 0.0026\n",
      "Epoch 36/100\n",
      "\u001b[1m23/23\u001b[0m \u001b[32m━━━━━━━━━━━━━━━━━━━━\u001b[0m\u001b[37m\u001b[0m \u001b[1m6s\u001b[0m 252ms/step - loss: 2.3043e-05 - val_loss: 0.0048\n",
      "Epoch 37/100\n",
      "\u001b[1m23/23\u001b[0m \u001b[32m━━━━━━━━━━━━━━━━━━━━\u001b[0m\u001b[37m\u001b[0m \u001b[1m6s\u001b[0m 252ms/step - loss: 1.9597e-05 - val_loss: 0.0027\n",
      "Epoch 38/100\n",
      "\u001b[1m23/23\u001b[0m \u001b[32m━━━━━━━━━━━━━━━━━━━━\u001b[0m\u001b[37m\u001b[0m \u001b[1m6s\u001b[0m 244ms/step - loss: 1.6348e-05 - val_loss: 0.0025\n",
      "Epoch 39/100\n",
      "\u001b[1m23/23\u001b[0m \u001b[32m━━━━━━━━━━━━━━━━━━━━\u001b[0m\u001b[37m\u001b[0m \u001b[1m6s\u001b[0m 254ms/step - loss: 1.7151e-05 - val_loss: 0.0023\n",
      "Epoch 40/100\n",
      "\u001b[1m23/23\u001b[0m \u001b[32m━━━━━━━━━━━━━━━━━━━━\u001b[0m\u001b[37m\u001b[0m \u001b[1m5s\u001b[0m 227ms/step - loss: 2.4202e-05 - val_loss: 0.0038\n",
      "Epoch 41/100\n",
      "\u001b[1m23/23\u001b[0m \u001b[32m━━━━━━━━━━━━━━━━━━━━\u001b[0m\u001b[37m\u001b[0m \u001b[1m7s\u001b[0m 298ms/step - loss: 2.6201e-05 - val_loss: 0.0030\n",
      "Epoch 42/100\n",
      "\u001b[1m23/23\u001b[0m \u001b[32m━━━━━━━━━━━━━━━━━━━━\u001b[0m\u001b[37m\u001b[0m \u001b[1m5s\u001b[0m 225ms/step - loss: 1.9124e-05 - val_loss: 0.0023\n",
      "Epoch 43/100\n",
      "\u001b[1m23/23\u001b[0m \u001b[32m━━━━━━━━━━━━━━━━━━━━\u001b[0m\u001b[37m\u001b[0m \u001b[1m5s\u001b[0m 219ms/step - loss: 1.6140e-05 - val_loss: 0.0034\n",
      "Epoch 44/100\n",
      "\u001b[1m23/23\u001b[0m \u001b[32m━━━━━━━━━━━━━━━━━━━━\u001b[0m\u001b[37m\u001b[0m \u001b[1m5s\u001b[0m 219ms/step - loss: 1.4174e-05 - val_loss: 0.0026\n",
      "Epoch 45/100\n",
      "\u001b[1m23/23\u001b[0m \u001b[32m━━━━━━━━━━━━━━━━━━━━\u001b[0m\u001b[37m\u001b[0m \u001b[1m5s\u001b[0m 225ms/step - loss: 1.6901e-05 - val_loss: 0.0021\n",
      "Epoch 46/100\n",
      "\u001b[1m23/23\u001b[0m \u001b[32m━━━━━━━━━━━━━━━━━━━━\u001b[0m\u001b[37m\u001b[0m \u001b[1m7s\u001b[0m 285ms/step - loss: 2.2210e-05 - val_loss: 0.0026\n",
      "Epoch 47/100\n",
      "\u001b[1m23/23\u001b[0m \u001b[32m━━━━━━━━━━━━━━━━━━━━\u001b[0m\u001b[37m\u001b[0m \u001b[1m7s\u001b[0m 315ms/step - loss: 1.5820e-05 - val_loss: 0.0036\n",
      "Epoch 48/100\n",
      "\u001b[1m23/23\u001b[0m \u001b[32m━━━━━━━━━━━━━━━━━━━━\u001b[0m\u001b[37m\u001b[0m \u001b[1m6s\u001b[0m 242ms/step - loss: 2.2883e-05 - val_loss: 0.0031\n",
      "Epoch 49/100\n",
      "\u001b[1m23/23\u001b[0m \u001b[32m━━━━━━━━━━━━━━━━━━━━\u001b[0m\u001b[37m\u001b[0m \u001b[1m6s\u001b[0m 258ms/step - loss: 2.3595e-05 - val_loss: 0.0024\n",
      "Epoch 50/100\n",
      "\u001b[1m23/23\u001b[0m \u001b[32m━━━━━━━━━━━━━━━━━━━━\u001b[0m\u001b[37m\u001b[0m \u001b[1m5s\u001b[0m 236ms/step - loss: 2.1740e-05 - val_loss: 0.0021\n",
      "Epoch 51/100\n",
      "\u001b[1m23/23\u001b[0m \u001b[32m━━━━━━━━━━━━━━━━━━━━\u001b[0m\u001b[37m\u001b[0m \u001b[1m5s\u001b[0m 218ms/step - loss: 1.6919e-05 - val_loss: 0.0021\n",
      "Epoch 52/100\n",
      "\u001b[1m23/23\u001b[0m \u001b[32m━━━━━━━━━━━━━━━━━━━━\u001b[0m\u001b[37m\u001b[0m \u001b[1m5s\u001b[0m 213ms/step - loss: 1.4308e-05 - val_loss: 0.0019\n",
      "Epoch 53/100\n",
      "\u001b[1m23/23\u001b[0m \u001b[32m━━━━━━━━━━━━━━━━━━━━\u001b[0m\u001b[37m\u001b[0m \u001b[1m5s\u001b[0m 219ms/step - loss: 2.1620e-05 - val_loss: 0.0023\n",
      "Epoch 54/100\n",
      "\u001b[1m23/23\u001b[0m \u001b[32m━━━━━━━━━━━━━━━━━━━━\u001b[0m\u001b[37m\u001b[0m \u001b[1m6s\u001b[0m 258ms/step - loss: 1.5967e-05 - val_loss: 0.0018\n",
      "Epoch 55/100\n",
      "\u001b[1m23/23\u001b[0m \u001b[32m━━━━━━━━━━━━━━━━━━━━\u001b[0m\u001b[37m\u001b[0m \u001b[1m6s\u001b[0m 269ms/step - loss: 1.7304e-05 - val_loss: 0.0018\n",
      "Epoch 56/100\n",
      "\u001b[1m23/23\u001b[0m \u001b[32m━━━━━━━━━━━━━━━━━━━━\u001b[0m\u001b[37m\u001b[0m \u001b[1m5s\u001b[0m 224ms/step - loss: 1.6277e-05 - val_loss: 0.0021\n",
      "Epoch 57/100\n",
      "\u001b[1m23/23\u001b[0m \u001b[32m━━━━━━━━━━━━━━━━━━━━\u001b[0m\u001b[37m\u001b[0m \u001b[1m7s\u001b[0m 286ms/step - loss: 1.3246e-05 - val_loss: 0.0017\n",
      "Epoch 58/100\n",
      "\u001b[1m23/23\u001b[0m \u001b[32m━━━━━━━━━━━━━━━━━━━━\u001b[0m\u001b[37m\u001b[0m \u001b[1m7s\u001b[0m 292ms/step - loss: 1.2437e-05 - val_loss: 0.0020\n",
      "Epoch 59/100\n",
      "\u001b[1m23/23\u001b[0m \u001b[32m━━━━━━━━━━━━━━━━━━━━\u001b[0m\u001b[37m\u001b[0m \u001b[1m5s\u001b[0m 230ms/step - loss: 1.6864e-05 - val_loss: 0.0022\n",
      "Epoch 60/100\n",
      "\u001b[1m23/23\u001b[0m \u001b[32m━━━━━━━━━━━━━━━━━━━━\u001b[0m\u001b[37m\u001b[0m \u001b[1m6s\u001b[0m 263ms/step - loss: 1.7806e-05 - val_loss: 0.0017\n",
      "Epoch 61/100\n",
      "\u001b[1m23/23\u001b[0m \u001b[32m━━━━━━━━━━━━━━━━━━━━\u001b[0m\u001b[37m\u001b[0m \u001b[1m5s\u001b[0m 233ms/step - loss: 1.5458e-05 - val_loss: 0.0017\n",
      "Epoch 62/100\n",
      "\u001b[1m23/23\u001b[0m \u001b[32m━━━━━━━━━━━━━━━━━━━━\u001b[0m\u001b[37m\u001b[0m \u001b[1m6s\u001b[0m 261ms/step - loss: 1.4829e-05 - val_loss: 0.0017\n",
      "Epoch 63/100\n",
      "\u001b[1m23/23\u001b[0m \u001b[32m━━━━━━━━━━━━━━━━━━━━\u001b[0m\u001b[37m\u001b[0m \u001b[1m6s\u001b[0m 249ms/step - loss: 1.2896e-05 - val_loss: 0.0015\n",
      "Epoch 64/100\n",
      "\u001b[1m23/23\u001b[0m \u001b[32m━━━━━━━━━━━━━━━━━━━━\u001b[0m\u001b[37m\u001b[0m \u001b[1m6s\u001b[0m 274ms/step - loss: 1.5630e-05 - val_loss: 0.0015\n",
      "Epoch 65/100\n",
      "\u001b[1m23/23\u001b[0m \u001b[32m━━━━━━━━━━━━━━━━━━━━\u001b[0m\u001b[37m\u001b[0m \u001b[1m7s\u001b[0m 295ms/step - loss: 1.1837e-05 - val_loss: 0.0015\n",
      "Epoch 66/100\n",
      "\u001b[1m23/23\u001b[0m \u001b[32m━━━━━━━━━━━━━━━━━━━━\u001b[0m\u001b[37m\u001b[0m \u001b[1m7s\u001b[0m 295ms/step - loss: 1.1876e-05 - val_loss: 0.0014\n",
      "Epoch 67/100\n",
      "\u001b[1m23/23\u001b[0m \u001b[32m━━━━━━━━━━━━━━━━━━━━\u001b[0m\u001b[37m\u001b[0m \u001b[1m6s\u001b[0m 254ms/step - loss: 1.2589e-05 - val_loss: 0.0015\n",
      "Epoch 68/100\n",
      "\u001b[1m23/23\u001b[0m \u001b[32m━━━━━━━━━━━━━━━━━━━━\u001b[0m\u001b[37m\u001b[0m \u001b[1m7s\u001b[0m 302ms/step - loss: 1.0868e-05 - val_loss: 0.0019\n",
      "Epoch 69/100\n",
      "\u001b[1m23/23\u001b[0m \u001b[32m━━━━━━━━━━━━━━━━━━━━\u001b[0m\u001b[37m\u001b[0m \u001b[1m8s\u001b[0m 325ms/step - loss: 1.4833e-05 - val_loss: 0.0017\n",
      "Epoch 70/100\n",
      "\u001b[1m23/23\u001b[0m \u001b[32m━━━━━━━━━━━━━━━━━━━━\u001b[0m\u001b[37m\u001b[0m \u001b[1m6s\u001b[0m 250ms/step - loss: 1.2783e-05 - val_loss: 0.0014\n",
      "Epoch 71/100\n",
      "\u001b[1m23/23\u001b[0m \u001b[32m━━━━━━━━━━━━━━━━━━━━\u001b[0m\u001b[37m\u001b[0m \u001b[1m6s\u001b[0m 258ms/step - loss: 1.0518e-05 - val_loss: 0.0013\n",
      "Epoch 72/100\n",
      "\u001b[1m23/23\u001b[0m \u001b[32m━━━━━━━━━━━━━━━━━━━━\u001b[0m\u001b[37m\u001b[0m \u001b[1m6s\u001b[0m 266ms/step - loss: 1.2484e-05 - val_loss: 0.0017\n",
      "Epoch 73/100\n",
      "\u001b[1m23/23\u001b[0m \u001b[32m━━━━━━━━━━━━━━━━━━━━\u001b[0m\u001b[37m\u001b[0m \u001b[1m5s\u001b[0m 232ms/step - loss: 1.4144e-05 - val_loss: 0.0014\n",
      "Epoch 74/100\n",
      "\u001b[1m23/23\u001b[0m \u001b[32m━━━━━━━━━━━━━━━━━━━━\u001b[0m\u001b[37m\u001b[0m \u001b[1m6s\u001b[0m 249ms/step - loss: 1.0392e-05 - val_loss: 0.0019\n",
      "Epoch 75/100\n",
      "\u001b[1m23/23\u001b[0m \u001b[32m━━━━━━━━━━━━━━━━━━━━\u001b[0m\u001b[37m\u001b[0m \u001b[1m7s\u001b[0m 296ms/step - loss: 1.6217e-05 - val_loss: 0.0016\n",
      "Epoch 76/100\n",
      "\u001b[1m23/23\u001b[0m \u001b[32m━━━━━━━━━━━━━━━━━━━━\u001b[0m\u001b[37m\u001b[0m \u001b[1m5s\u001b[0m 232ms/step - loss: 1.0767e-05 - val_loss: 0.0041\n",
      "Epoch 77/100\n",
      "\u001b[1m23/23\u001b[0m \u001b[32m━━━━━━━━━━━━━━━━━━━━\u001b[0m\u001b[37m\u001b[0m \u001b[1m5s\u001b[0m 229ms/step - loss: 1.1597e-05 - val_loss: 0.0013\n",
      "Epoch 78/100\n",
      "\u001b[1m23/23\u001b[0m \u001b[32m━━━━━━━━━━━━━━━━━━━━\u001b[0m\u001b[37m\u001b[0m \u001b[1m6s\u001b[0m 272ms/step - loss: 8.9897e-06 - val_loss: 0.0012\n",
      "Epoch 79/100\n",
      "\u001b[1m23/23\u001b[0m \u001b[32m━━━━━━━━━━━━━━━━━━━━\u001b[0m\u001b[37m\u001b[0m \u001b[1m6s\u001b[0m 279ms/step - loss: 1.3612e-05 - val_loss: 0.0012\n",
      "Epoch 80/100\n",
      "\u001b[1m23/23\u001b[0m \u001b[32m━━━━━━━━━━━━━━━━━━━━\u001b[0m\u001b[37m\u001b[0m \u001b[1m11s\u001b[0m 287ms/step - loss: 9.5168e-06 - val_loss: 0.0013\n",
      "Epoch 81/100\n",
      "\u001b[1m23/23\u001b[0m \u001b[32m━━━━━━━━━━━━━━━━━━━━\u001b[0m\u001b[37m\u001b[0m \u001b[1m7s\u001b[0m 288ms/step - loss: 9.7076e-06 - val_loss: 0.0012\n",
      "Epoch 82/100\n",
      "\u001b[1m23/23\u001b[0m \u001b[32m━━━━━━━━━━━━━━━━━━━━\u001b[0m\u001b[37m\u001b[0m \u001b[1m7s\u001b[0m 287ms/step - loss: 1.3618e-05 - val_loss: 0.0016\n",
      "Epoch 83/100\n",
      "\u001b[1m23/23\u001b[0m \u001b[32m━━━━━━━━━━━━━━━━━━━━\u001b[0m\u001b[37m\u001b[0m \u001b[1m6s\u001b[0m 278ms/step - loss: 1.1836e-05 - val_loss: 0.0022\n",
      "Epoch 84/100\n",
      "\u001b[1m23/23\u001b[0m \u001b[32m━━━━━━━━━━━━━━━━━━━━\u001b[0m\u001b[37m\u001b[0m \u001b[1m7s\u001b[0m 297ms/step - loss: 1.2264e-05 - val_loss: 0.0013\n",
      "Epoch 85/100\n",
      "\u001b[1m23/23\u001b[0m \u001b[32m━━━━━━━━━━━━━━━━━━━━\u001b[0m\u001b[37m\u001b[0m \u001b[1m6s\u001b[0m 245ms/step - loss: 9.9097e-06 - val_loss: 0.0015\n",
      "Epoch 86/100\n",
      "\u001b[1m23/23\u001b[0m \u001b[32m━━━━━━━━━━━━━━━━━━━━\u001b[0m\u001b[37m\u001b[0m \u001b[1m10s\u001b[0m 226ms/step - loss: 9.8210e-06 - val_loss: 0.0023\n",
      "Epoch 87/100\n",
      "\u001b[1m23/23\u001b[0m \u001b[32m━━━━━━━━━━━━━━━━━━━━\u001b[0m\u001b[37m\u001b[0m \u001b[1m5s\u001b[0m 222ms/step - loss: 1.1039e-05 - val_loss: 0.0010\n",
      "Epoch 88/100\n",
      "\u001b[1m23/23\u001b[0m \u001b[32m━━━━━━━━━━━━━━━━━━━━\u001b[0m\u001b[37m\u001b[0m \u001b[1m6s\u001b[0m 261ms/step - loss: 1.1156e-05 - val_loss: 9.9164e-04\n",
      "Epoch 89/100\n",
      "\u001b[1m23/23\u001b[0m \u001b[32m━━━━━━━━━━━━━━━━━━━━\u001b[0m\u001b[37m\u001b[0m \u001b[1m7s\u001b[0m 302ms/step - loss: 1.1417e-05 - val_loss: 0.0011\n",
      "Epoch 90/100\n",
      "\u001b[1m23/23\u001b[0m \u001b[32m━━━━━━━━━━━━━━━━━━━━\u001b[0m\u001b[37m\u001b[0m \u001b[1m9s\u001b[0m 229ms/step - loss: 1.1923e-05 - val_loss: 0.0022\n",
      "Epoch 91/100\n",
      "\u001b[1m23/23\u001b[0m \u001b[32m━━━━━━━━━━━━━━━━━━━━\u001b[0m\u001b[37m\u001b[0m \u001b[1m5s\u001b[0m 232ms/step - loss: 9.5701e-06 - val_loss: 9.6782e-04\n",
      "Epoch 92/100\n",
      "\u001b[1m23/23\u001b[0m \u001b[32m━━━━━━━━━━━━━━━━━━━━\u001b[0m\u001b[37m\u001b[0m \u001b[1m5s\u001b[0m 235ms/step - loss: 9.3529e-06 - val_loss: 0.0011\n",
      "Epoch 93/100\n",
      "\u001b[1m23/23\u001b[0m \u001b[32m━━━━━━━━━━━━━━━━━━━━\u001b[0m\u001b[37m\u001b[0m \u001b[1m6s\u001b[0m 250ms/step - loss: 7.9434e-06 - val_loss: 9.9627e-04\n",
      "Epoch 94/100\n",
      "\u001b[1m23/23\u001b[0m \u001b[32m━━━━━━━━━━━━━━━━━━━━\u001b[0m\u001b[37m\u001b[0m \u001b[1m7s\u001b[0m 287ms/step - loss: 9.4363e-06 - val_loss: 8.8705e-04\n",
      "Epoch 95/100\n",
      "\u001b[1m23/23\u001b[0m \u001b[32m━━━━━━━━━━━━━━━━━━━━\u001b[0m\u001b[37m\u001b[0m \u001b[1m6s\u001b[0m 271ms/step - loss: 9.7068e-06 - val_loss: 0.0011\n",
      "Epoch 96/100\n",
      "\u001b[1m23/23\u001b[0m \u001b[32m━━━━━━━━━━━━━━━━━━━━\u001b[0m\u001b[37m\u001b[0m \u001b[1m5s\u001b[0m 236ms/step - loss: 1.1276e-05 - val_loss: 0.0011\n",
      "Epoch 97/100\n",
      "\u001b[1m23/23\u001b[0m \u001b[32m━━━━━━━━━━━━━━━━━━━━\u001b[0m\u001b[37m\u001b[0m \u001b[1m7s\u001b[0m 290ms/step - loss: 8.8327e-06 - val_loss: 9.4926e-04\n",
      "Epoch 98/100\n",
      "\u001b[1m23/23\u001b[0m \u001b[32m━━━━━━━━━━━━━━━━━━━━\u001b[0m\u001b[37m\u001b[0m \u001b[1m7s\u001b[0m 297ms/step - loss: 1.0987e-05 - val_loss: 0.0013\n",
      "Epoch 99/100\n",
      "\u001b[1m23/23\u001b[0m \u001b[32m━━━━━━━━━━━━━━━━━━━━\u001b[0m\u001b[37m\u001b[0m \u001b[1m7s\u001b[0m 280ms/step - loss: 7.3592e-06 - val_loss: 0.0011\n",
      "Epoch 100/100\n",
      "\u001b[1m23/23\u001b[0m \u001b[32m━━━━━━━━━━━━━━━━━━━━\u001b[0m\u001b[37m\u001b[0m \u001b[1m6s\u001b[0m 261ms/step - loss: 1.0404e-05 - val_loss: 8.3371e-04\n"
     ]
    },
    {
     "data": {
      "text/plain": [
       "<keras.src.callbacks.history.History at 0x1d4405434d0>"
      ]
     },
     "execution_count": 20,
     "metadata": {},
     "output_type": "execute_result"
    }
   ],
   "source": [
    "model.fit(x_train, y_train, validation_data=(x_test, y_test), epochs=100, batch_size=64, verbose=1)\n"
   ]
  },
  {
   "cell_type": "code",
   "execution_count": 21,
   "id": "ee956990-9f2d-4ff4-a04e-e66fa54ddcbd",
   "metadata": {},
   "outputs": [],
   "source": [
    "import tensorflow as tf"
   ]
  },
  {
   "cell_type": "code",
   "execution_count": 22,
   "id": "14e25026-1335-422a-903d-ebf028b73ef8",
   "metadata": {},
   "outputs": [
    {
     "data": {
      "text/plain": [
       "'2.19.0'"
      ]
     },
     "execution_count": 22,
     "metadata": {},
     "output_type": "execute_result"
    }
   ],
   "source": [
    "tf.__version__"
   ]
  },
  {
   "cell_type": "code",
   "execution_count": 23,
   "id": "255bd4b9-8fea-4656-8466-b08203eea42e",
   "metadata": {},
   "outputs": [
    {
     "name": "stdout",
     "output_type": "stream",
     "text": [
      "\u001b[1m46/46\u001b[0m \u001b[32m━━━━━━━━━━━━━━━━━━━━\u001b[0m\u001b[37m\u001b[0m \u001b[1m5s\u001b[0m 88ms/step\n",
      "\u001b[1m9/9\u001b[0m \u001b[32m━━━━━━━━━━━━━━━━━━━━\u001b[0m\u001b[37m\u001b[0m \u001b[1m1s\u001b[0m 78ms/step\n"
     ]
    }
   ],
   "source": [
    "# lETS DO THE PREDICTION AND CHECK THE PERFORMANCE MATRIX\n",
    "train_predict = model.predict(x_train)\n",
    "test_predict = model.predict(x_test)\n"
   ]
  },
  {
   "cell_type": "code",
   "execution_count": 24,
   "id": "6b8019b0-3c6c-42ab-bd20-03281da5b0d7",
   "metadata": {},
   "outputs": [],
   "source": [
    "# transform to the original matrix\n",
    "train_predict = scalar.inverse_transform(train_predict)\n",
    "test_predict = scalar.inverse_transform(test_predict)\n"
   ]
  },
  {
   "cell_type": "code",
   "execution_count": 28,
   "id": "85f6e2f1-71a3-4028-8b7a-cb234b407df9",
   "metadata": {},
   "outputs": [
    {
     "data": {
      "text/plain": [
       "227.05754416859367"
      ]
     },
     "execution_count": 28,
     "metadata": {},
     "output_type": "execute_result"
    }
   ],
   "source": [
    "# calculate the Rmse performance matrix\n",
    "import math \n",
    "from sklearn.metrics import mean_squared_error\n",
    "math.sqrt(mean_squared_error(y_train, train_predict))"
   ]
  },
  {
   "cell_type": "code",
   "execution_count": 29,
   "id": "235d3a30-64e4-4348-8c6f-601c782fa3d6",
   "metadata": {},
   "outputs": [
    {
     "data": {
      "text/plain": [
       "1781.7193270136738"
      ]
     },
     "execution_count": 29,
     "metadata": {},
     "output_type": "execute_result"
    }
   ],
   "source": [
    "#  check for the test data\n",
    "math.sqrt(mean_squared_error(y_test, test_predict))"
   ]
  },
  {
   "cell_type": "code",
   "execution_count": 31,
   "id": "1ab22467-1d0e-4648-a59a-008c44194e72",
   "metadata": {},
   "outputs": [
    {
     "data": {
      "image/png": "[encoded data removed]",
      "text/plain": [
       "<Figure size 640x480 with 1 Axes>"
      ]
     },
     "metadata": {},
     "output_type": "display_data"
    }
   ],
   "source": [
    "import matplotlib.pyplot as plt\n",
    "# plottig the data\n",
    "look_back = 100\n",
    "trainpredictPlot = np.empty_like(df1)\n",
    "trainpredictPlot[:,:] = np.nan\n",
    "trainpredictPlot[look_back:len(train_predict)+look_back, :] = train_predict\n",
    "# for the test data\n",
    "testpredictPlot = np.empty_like(df1)\n",
    "testpredictPlot[:,:] = np.nan\n",
    "testpredictPlot[len(train_predict)+(look_back*2)+1:len(df1)-1,:] = test_predict\n",
    "# plot the base lin prediction\n",
    "plt.plot(scalar.inverse_transform(df1))\n",
    "plt.plot(trainpredictPlot)\n",
    "plt.plot(testpredictPlot)\n",
    "plt.show()"
   ]
  },
  {
   "cell_type": "code",
   "execution_count": 41,
   "id": "cf65ca93-a675-4315-b896-b48d1418ae8d",
   "metadata": {},
   "outputs": [
    {
     "data": {
      "text/plain": [
       "(1, 100)"
      ]
     },
     "execution_count": 41,
     "metadata": {},
     "output_type": "execute_result"
    }
   ],
   "source": [
    "x_input = test_data[289:].reshape(1,-1)\n",
    "x_input.shape"
   ]
  },
  {
   "cell_type": "code",
   "execution_count": 42,
   "id": "b7ab5483-8852-4859-b4b8-a7dc5317716f",
   "metadata": {},
   "outputs": [],
   "source": [
    "temp_input = list(x_input)\n",
    "temp_input = temp_input[0].tolist()"
   ]
  },
  {
   "cell_type": "code",
   "execution_count": 43,
   "id": "199537d1-c3ee-46d4-9e9e-e9384a0ccd7a",
   "metadata": {},
   "outputs": [
    {
     "name": "stdout",
     "output_type": "stream",
     "text": [
      "[0.69190514]\n",
      "101\n",
      "1 day input [0.47750036 0.47301858 0.45467412 0.4582668  0.4421723  0.43248294\n",
      " 0.43248294 0.40943896 0.4022173  0.40898534 0.43226521 0.43237407\n",
      " 0.44128321 0.43353535 0.43426114 0.43075918 0.42116055 0.40272536\n",
      " 0.41872913 0.42019887 0.42829148 0.44558354 0.43309987 0.42268471\n",
      " 0.42613224 0.42954348 0.44741617 0.48943969 0.48718972 0.48274423\n",
      " 0.49972783 0.48971186 0.48767963 0.47791769 0.47173029 0.46664973\n",
      " 0.47305487 0.49105458 0.4655066  0.44647264 0.46126071 0.45431122\n",
      " 0.4692263  0.48432283 0.48581071 0.48693569 0.50050806 0.50112498\n",
      " 0.49996371 0.49702424 0.47448831 0.50591523 0.5604587  0.53832196\n",
      " 0.51611264 0.52137466 0.49887502 0.48976629 0.48461315 0.49956452\n",
      " 0.51270141 0.53309624 0.57751488 0.61841341 0.69952098 0.68014226\n",
      " 0.62040935 0.62810277 0.6516911  0.65575555 0.64472347 0.65960226\n",
      " 0.6693642  0.67905356 0.66740456 0.65865873 0.69919437 0.71806503\n",
      " 0.81390623 0.82903905 0.79594281 0.78030193 0.75729424 0.73308898\n",
      " 0.74524604 0.75482654 0.7563507  0.7386776  0.71770213 0.75163304\n",
      " 0.77046741 0.74666134 0.73523008 0.71969807 0.70264189 0.71048048\n",
      " 0.70300479 0.69578313 0.69219045 0.69190514]\n",
      "1 day input [[0.68996733]]\n",
      "2 day input [0.47301858 0.45467412 0.4582668  0.4421723  0.43248294 0.43248294\n",
      " 0.40943896 0.4022173  0.40898534 0.43226521 0.43237407 0.44128321\n",
      " 0.43353535 0.43426114 0.43075918 0.42116055 0.40272536 0.41872913\n",
      " 0.42019887 0.42829148 0.44558354 0.43309987 0.42268471 0.42613224\n",
      " 0.42954348 0.44741617 0.48943969 0.48718972 0.48274423 0.49972783\n",
      " 0.48971186 0.48767963 0.47791769 0.47173029 0.46664973 0.47305487\n",
      " 0.49105458 0.4655066  0.44647264 0.46126071 0.45431122 0.4692263\n",
      " 0.48432283 0.48581071 0.48693569 0.50050806 0.50112498 0.49996371\n",
      " 0.49702424 0.47448831 0.50591523 0.5604587  0.53832196 0.51611264\n",
      " 0.52137466 0.49887502 0.48976629 0.48461315 0.49956452 0.51270141\n",
      " 0.53309624 0.57751488 0.61841341 0.69952098 0.68014226 0.62040935\n",
      " 0.62810277 0.6516911  0.65575555 0.64472347 0.65960226 0.6693642\n",
      " 0.67905356 0.66740456 0.65865873 0.69919437 0.71806503 0.81390623\n",
      " 0.82903905 0.79594281 0.78030193 0.75729424 0.73308898 0.74524604\n",
      " 0.75482654 0.7563507  0.7386776  0.71770213 0.75163304 0.77046741\n",
      " 0.74666134 0.73523008 0.71969807 0.70264189 0.71048048 0.70300479\n",
      " 0.69578313 0.69219045 0.69190514 0.68996733]\n",
      "2 day input [[0.68838406]]\n",
      "3 day input [0.45467412 0.4582668  0.4421723  0.43248294 0.43248294 0.40943896\n",
      " 0.4022173  0.40898534 0.43226521 0.43237407 0.44128321 0.43353535\n",
      " 0.43426114 0.43075918 0.42116055 0.40272536 0.41872913 0.42019887\n",
      " 0.42829148 0.44558354 0.43309987 0.42268471 0.42613224 0.42954348\n",
      " 0.44741617 0.48943969 0.48718972 0.48274423 0.49972783 0.48971186\n",
      " 0.48767963 0.47791769 0.47173029 0.46664973 0.47305487 0.49105458\n",
      " 0.4655066  0.44647264 0.46126071 0.45431122 0.4692263  0.48432283\n",
      " 0.48581071 0.48693569 0.50050806 0.50112498 0.49996371 0.49702424\n",
      " 0.47448831 0.50591523 0.5604587  0.53832196 0.51611264 0.52137466\n",
      " 0.49887502 0.48976629 0.48461315 0.49956452 0.51270141 0.53309624\n",
      " 0.57751488 0.61841341 0.69952098 0.68014226 0.62040935 0.62810277\n",
      " 0.6516911  0.65575555 0.64472347 0.65960226 0.6693642  0.67905356\n",
      " 0.66740456 0.65865873 0.69919437 0.71806503 0.81390623 0.82903905\n",
      " 0.79594281 0.78030193 0.75729424 0.73308898 0.74524604 0.75482654\n",
      " 0.7563507  0.7386776  0.71770213 0.75163304 0.77046741 0.74666134\n",
      " 0.73523008 0.71969807 0.70264189 0.71048048 0.70300479 0.69578313\n",
      " 0.69219045 0.69190514 0.68996733 0.68838406]\n",
      "3 day input [[0.686623]]\n",
      "4 day input [0.4582668  0.4421723  0.43248294 0.43248294 0.40943896 0.4022173\n",
      " 0.40898534 0.43226521 0.43237407 0.44128321 0.43353535 0.43426114\n",
      " 0.43075918 0.42116055 0.40272536 0.41872913 0.42019887 0.42829148\n",
      " 0.44558354 0.43309987 0.42268471 0.42613224 0.42954348 0.44741617\n",
      " 0.48943969 0.48718972 0.48274423 0.49972783 0.48971186 0.48767963\n",
      " 0.47791769 0.47173029 0.46664973 0.47305487 0.49105458 0.4655066\n",
      " 0.44647264 0.46126071 0.45431122 0.4692263  0.48432283 0.48581071\n",
      " 0.48693569 0.50050806 0.50112498 0.49996371 0.49702424 0.47448831\n",
      " 0.50591523 0.5604587  0.53832196 0.51611264 0.52137466 0.49887502\n",
      " 0.48976629 0.48461315 0.49956452 0.51270141 0.53309624 0.57751488\n",
      " 0.61841341 0.69952098 0.68014226 0.62040935 0.62810277 0.6516911\n",
      " 0.65575555 0.64472347 0.65960226 0.6693642  0.67905356 0.66740456\n",
      " 0.65865873 0.69919437 0.71806503 0.81390623 0.82903905 0.79594281\n",
      " 0.78030193 0.75729424 0.73308898 0.74524604 0.75482654 0.7563507\n",
      " 0.7386776  0.71770213 0.75163304 0.77046741 0.74666134 0.73523008\n",
      " 0.71969807 0.70264189 0.71048048 0.70300479 0.69578313 0.69219045\n",
      " 0.69190514 0.68996733 0.68838406 0.68662298]\n",
      "4 day input [[0.6844963]]\n",
      "5 day input [0.4421723  0.43248294 0.43248294 0.40943896 0.4022173  0.40898534\n",
      " 0.43226521 0.43237407 0.44128321 0.43353535 0.43426114 0.43075918\n",
      " 0.42116055 0.40272536 0.41872913 0.42019887 0.42829148 0.44558354\n",
      " 0.43309987 0.42268471 0.42613224 0.42954348 0.44741617 0.48943969\n",
      " 0.48718972 0.48274423 0.49972783 0.48971186 0.48767963 0.47791769\n",
      " 0.47173029 0.46664973 0.47305487 0.49105458 0.4655066  0.44647264\n",
      " 0.46126071 0.45431122 0.4692263  0.48432283 0.48581071 0.48693569\n",
      " 0.50050806 0.50112498 0.49996371 0.49702424 0.47448831 0.50591523\n",
      " 0.5604587  0.53832196 0.51611264 0.52137466 0.49887502 0.48976629\n",
      " 0.48461315 0.49956452 0.51270141 0.53309624 0.57751488 0.61841341\n",
      " 0.69952098 0.68014226 0.62040935 0.62810277 0.6516911  0.65575555\n",
      " 0.64472347 0.65960226 0.6693642  0.67905356 0.66740456 0.65865873\n",
      " 0.69919437 0.71806503 0.81390623 0.82903905 0.79594281 0.78030193\n",
      " 0.75729424 0.73308898 0.74524604 0.75482654 0.7563507  0.7386776\n",
      " 0.71770213 0.75163304 0.77046741 0.74666134 0.73523008 0.71969807\n",
      " 0.70264189 0.71048048 0.70300479 0.69578313 0.69219045 0.69190514\n",
      " 0.68996733 0.68838406 0.68662298 0.68449628]\n",
      "5 day input [[0.6819724]]\n",
      "6 day input [0.43248294 0.43248294 0.40943896 0.4022173  0.40898534 0.43226521\n",
      " 0.43237407 0.44128321 0.43353535 0.43426114 0.43075918 0.42116055\n",
      " 0.40272536 0.41872913 0.42019887 0.42829148 0.44558354 0.43309987\n",
      " 0.42268471 0.42613224 0.42954348 0.44741617 0.48943969 0.48718972\n",
      " 0.48274423 0.49972783 0.48971186 0.48767963 0.47791769 0.47173029\n",
      " 0.46664973 0.47305487 0.49105458 0.4655066  0.44647264 0.46126071\n",
      " 0.45431122 0.4692263  0.48432283 0.48581071 0.48693569 0.50050806\n",
      " 0.50112498 0.49996371 0.49702424 0.47448831 0.50591523 0.5604587\n",
      " 0.53832196 0.51611264 0.52137466 0.49887502 0.48976629 0.48461315\n",
      " 0.49956452 0.51270141 0.53309624 0.57751488 0.61841341 0.69952098\n",
      " 0.68014226 0.62040935 0.62810277 0.6516911  0.65575555 0.64472347\n",
      " 0.65960226 0.6693642  0.67905356 0.66740456 0.65865873 0.69919437\n",
      " 0.71806503 0.81390623 0.82903905 0.79594281 0.78030193 0.75729424\n",
      " 0.73308898 0.74524604 0.75482654 0.7563507  0.7386776  0.71770213\n",
      " 0.75163304 0.77046741 0.74666134 0.73523008 0.71969807 0.70264189\n",
      " 0.71048048 0.70300479 0.69578313 0.69219045 0.69190514 0.68996733\n",
      " 0.68838406 0.68662298 0.68449628 0.68197238]\n",
      "6 day input [[0.6791107]]\n",
      "7 day input [0.43248294 0.40943896 0.4022173  0.40898534 0.43226521 0.43237407\n",
      " 0.44128321 0.43353535 0.43426114 0.43075918 0.42116055 0.40272536\n",
      " 0.41872913 0.42019887 0.42829148 0.44558354 0.43309987 0.42268471\n",
      " 0.42613224 0.42954348 0.44741617 0.48943969 0.48718972 0.48274423\n",
      " 0.49972783 0.48971186 0.48767963 0.47791769 0.47173029 0.46664973\n",
      " 0.47305487 0.49105458 0.4655066  0.44647264 0.46126071 0.45431122\n",
      " 0.4692263  0.48432283 0.48581071 0.48693569 0.50050806 0.50112498\n",
      " 0.49996371 0.49702424 0.47448831 0.50591523 0.5604587  0.53832196\n",
      " 0.51611264 0.52137466 0.49887502 0.48976629 0.48461315 0.49956452\n",
      " 0.51270141 0.53309624 0.57751488 0.61841341 0.69952098 0.68014226\n",
      " 0.62040935 0.62810277 0.6516911  0.65575555 0.64472347 0.65960226\n",
      " 0.6693642  0.67905356 0.66740456 0.65865873 0.69919437 0.71806503\n",
      " 0.81390623 0.82903905 0.79594281 0.78030193 0.75729424 0.73308898\n",
      " 0.74524604 0.75482654 0.7563507  0.7386776  0.71770213 0.75163304\n",
      " 0.77046741 0.74666134 0.73523008 0.71969807 0.70264189 0.71048048\n",
      " 0.70300479 0.69578313 0.69219045 0.69190514 0.68996733 0.68838406\n",
      " 0.68662298 0.68449628 0.68197238 0.67911071]\n",
      "7 day input [[0.6760242]]\n",
      "8 day input [0.40943896 0.4022173  0.40898534 0.43226521 0.43237407 0.44128321\n",
      " 0.43353535 0.43426114 0.43075918 0.42116055 0.40272536 0.41872913\n",
      " 0.42019887 0.42829148 0.44558354 0.43309987 0.42268471 0.42613224\n",
      " 0.42954348 0.44741617 0.48943969 0.48718972 0.48274423 0.49972783\n",
      " 0.48971186 0.48767963 0.47791769 0.47173029 0.46664973 0.47305487\n",
      " 0.49105458 0.4655066  0.44647264 0.46126071 0.45431122 0.4692263\n",
      " 0.48432283 0.48581071 0.48693569 0.50050806 0.50112498 0.49996371\n",
      " 0.49702424 0.47448831 0.50591523 0.5604587  0.53832196 0.51611264\n",
      " 0.52137466 0.49887502 0.48976629 0.48461315 0.49956452 0.51270141\n",
      " 0.53309624 0.57751488 0.61841341 0.69952098 0.68014226 0.62040935\n",
      " 0.62810277 0.6516911  0.65575555 0.64472347 0.65960226 0.6693642\n",
      " 0.67905356 0.66740456 0.65865873 0.69919437 0.71806503 0.81390623\n",
      " 0.82903905 0.79594281 0.78030193 0.75729424 0.73308898 0.74524604\n",
      " 0.75482654 0.7563507  0.7386776  0.71770213 0.75163304 0.77046741\n",
      " 0.74666134 0.73523008 0.71969807 0.70264189 0.71048048 0.70300479\n",
      " 0.69578313 0.69219045 0.69190514 0.68996733 0.68838406 0.68662298\n",
      " 0.68449628 0.68197238 0.67911071 0.6760242 ]\n",
      "8 day input [[0.67284846]]\n",
      "9 day input [0.4022173  0.40898534 0.43226521 0.43237407 0.44128321 0.43353535\n",
      " 0.43426114 0.43075918 0.42116055 0.40272536 0.41872913 0.42019887\n",
      " 0.42829148 0.44558354 0.43309987 0.42268471 0.42613224 0.42954348\n",
      " 0.44741617 0.48943969 0.48718972 0.48274423 0.49972783 0.48971186\n",
      " 0.48767963 0.47791769 0.47173029 0.46664973 0.47305487 0.49105458\n",
      " 0.4655066  0.44647264 0.46126071 0.45431122 0.4692263  0.48432283\n",
      " 0.48581071 0.48693569 0.50050806 0.50112498 0.49996371 0.49702424\n",
      " 0.47448831 0.50591523 0.5604587  0.53832196 0.51611264 0.52137466\n",
      " 0.49887502 0.48976629 0.48461315 0.49956452 0.51270141 0.53309624\n",
      " 0.57751488 0.61841341 0.69952098 0.68014226 0.62040935 0.62810277\n",
      " 0.6516911  0.65575555 0.64472347 0.65960226 0.6693642  0.67905356\n",
      " 0.66740456 0.65865873 0.69919437 0.71806503 0.81390623 0.82903905\n",
      " 0.79594281 0.78030193 0.75729424 0.73308898 0.74524604 0.75482654\n",
      " 0.7563507  0.7386776  0.71770213 0.75163304 0.77046741 0.74666134\n",
      " 0.73523008 0.71969807 0.70264189 0.71048048 0.70300479 0.69578313\n",
      " 0.69219045 0.69190514 0.68996733 0.68838406 0.68662298 0.68449628\n",
      " 0.68197238 0.67911071 0.6760242  0.67284846]\n",
      "9 day input [[0.66971576]]\n",
      "10 day input [0.40898534 0.43226521 0.43237407 0.44128321 0.43353535 0.43426114\n",
      " 0.43075918 0.42116055 0.40272536 0.41872913 0.42019887 0.42829148\n",
      " 0.44558354 0.43309987 0.42268471 0.42613224 0.42954348 0.44741617\n",
      " 0.48943969 0.48718972 0.48274423 0.49972783 0.48971186 0.48767963\n",
      " 0.47791769 0.47173029 0.46664973 0.47305487 0.49105458 0.4655066\n",
      " 0.44647264 0.46126071 0.45431122 0.4692263  0.48432283 0.48581071\n",
      " 0.48693569 0.50050806 0.50112498 0.49996371 0.49702424 0.47448831\n",
      " 0.50591523 0.5604587  0.53832196 0.51611264 0.52137466 0.49887502\n",
      " 0.48976629 0.48461315 0.49956452 0.51270141 0.53309624 0.57751488\n",
      " 0.61841341 0.69952098 0.68014226 0.62040935 0.62810277 0.6516911\n",
      " 0.65575555 0.64472347 0.65960226 0.6693642  0.67905356 0.66740456\n",
      " 0.65865873 0.69919437 0.71806503 0.81390623 0.82903905 0.79594281\n",
      " 0.78030193 0.75729424 0.73308898 0.74524604 0.75482654 0.7563507\n",
      " 0.7386776  0.71770213 0.75163304 0.77046741 0.74666134 0.73523008\n",
      " 0.71969807 0.70264189 0.71048048 0.70300479 0.69578313 0.69219045\n",
      " 0.69190514 0.68996733 0.68838406 0.68662298 0.68449628 0.68197238\n",
      " 0.67911071 0.6760242  0.67284846 0.66971576]\n",
      "10 day input [[0.66673326]]\n",
      "11 day input [0.43226521 0.43237407 0.44128321 0.43353535 0.43426114 0.43075918\n",
      " 0.42116055 0.40272536 0.41872913 0.42019887 0.42829148 0.44558354\n",
      " 0.43309987 0.42268471 0.42613224 0.42954348 0.44741617 0.48943969\n",
      " 0.48718972 0.48274423 0.49972783 0.48971186 0.48767963 0.47791769\n",
      " 0.47173029 0.46664973 0.47305487 0.49105458 0.4655066  0.44647264\n",
      " 0.46126071 0.45431122 0.4692263  0.48432283 0.48581071 0.48693569\n",
      " 0.50050806 0.50112498 0.49996371 0.49702424 0.47448831 0.50591523\n",
      " 0.5604587  0.53832196 0.51611264 0.52137466 0.49887502 0.48976629\n",
      " 0.48461315 0.49956452 0.51270141 0.53309624 0.57751488 0.61841341\n",
      " 0.69952098 0.68014226 0.62040935 0.62810277 0.6516911  0.65575555\n",
      " 0.64472347 0.65960226 0.6693642  0.67905356 0.66740456 0.65865873\n",
      " 0.69919437 0.71806503 0.81390623 0.82903905 0.79594281 0.78030193\n",
      " 0.75729424 0.73308898 0.74524604 0.75482654 0.7563507  0.7386776\n",
      " 0.71770213 0.75163304 0.77046741 0.74666134 0.73523008 0.71969807\n",
      " 0.70264189 0.71048048 0.70300479 0.69578313 0.69219045 0.69190514\n",
      " 0.68996733 0.68838406 0.68662298 0.68449628 0.68197238 0.67911071\n",
      " 0.6760242  0.67284846 0.66971576 0.66673326]\n",
      "11 day input [[0.6639731]]\n",
      "12 day input [0.43237407 0.44128321 0.43353535 0.43426114 0.43075918 0.42116055\n",
      " 0.40272536 0.41872913 0.42019887 0.42829148 0.44558354 0.43309987\n",
      " 0.42268471 0.42613224 0.42954348 0.44741617 0.48943969 0.48718972\n",
      " 0.48274423 0.49972783 0.48971186 0.48767963 0.47791769 0.47173029\n",
      " 0.46664973 0.47305487 0.49105458 0.4655066  0.44647264 0.46126071\n",
      " 0.45431122 0.4692263  0.48432283 0.48581071 0.48693569 0.50050806\n",
      " 0.50112498 0.49996371 0.49702424 0.47448831 0.50591523 0.5604587\n",
      " 0.53832196 0.51611264 0.52137466 0.49887502 0.48976629 0.48461315\n",
      " 0.49956452 0.51270141 0.53309624 0.57751488 0.61841341 0.69952098\n",
      " 0.68014226 0.62040935 0.62810277 0.6516911  0.65575555 0.64472347\n",
      " 0.65960226 0.6693642  0.67905356 0.66740456 0.65865873 0.69919437\n",
      " 0.71806503 0.81390623 0.82903905 0.79594281 0.78030193 0.75729424\n",
      " 0.73308898 0.74524604 0.75482654 0.7563507  0.7386776  0.71770213\n",
      " 0.75163304 0.77046741 0.74666134 0.73523008 0.71969807 0.70264189\n",
      " 0.71048048 0.70300479 0.69578313 0.69219045 0.69190514 0.68996733\n",
      " 0.68838406 0.68662298 0.68449628 0.68197238 0.67911071 0.6760242\n",
      " 0.67284846 0.66971576 0.66673326 0.66397309]\n",
      "12 day input [[0.66146874]]\n",
      "13 day input [0.44128321 0.43353535 0.43426114 0.43075918 0.42116055 0.40272536\n",
      " 0.41872913 0.42019887 0.42829148 0.44558354 0.43309987 0.42268471\n",
      " 0.42613224 0.42954348 0.44741617 0.48943969 0.48718972 0.48274423\n",
      " 0.49972783 0.48971186 0.48767963 0.47791769 0.47173029 0.46664973\n",
      " 0.47305487 0.49105458 0.4655066  0.44647264 0.46126071 0.45431122\n",
      " 0.4692263  0.48432283 0.48581071 0.48693569 0.50050806 0.50112498\n",
      " 0.49996371 0.49702424 0.47448831 0.50591523 0.5604587  0.53832196\n",
      " 0.51611264 0.52137466 0.49887502 0.48976629 0.48461315 0.49956452\n",
      " 0.51270141 0.53309624 0.57751488 0.61841341 0.69952098 0.68014226\n",
      " 0.62040935 0.62810277 0.6516911  0.65575555 0.64472347 0.65960226\n",
      " 0.6693642  0.67905356 0.66740456 0.65865873 0.69919437 0.71806503\n",
      " 0.81390623 0.82903905 0.79594281 0.78030193 0.75729424 0.73308898\n",
      " 0.74524604 0.75482654 0.7563507  0.7386776  0.71770213 0.75163304\n",
      " 0.77046741 0.74666134 0.73523008 0.71969807 0.70264189 0.71048048\n",
      " 0.70300479 0.69578313 0.69219045 0.69190514 0.68996733 0.68838406\n",
      " 0.68662298 0.68449628 0.68197238 0.67911071 0.6760242  0.67284846\n",
      " 0.66971576 0.66673326 0.66397309 0.66146874]\n",
      "13 day input [[0.65921926]]\n",
      "14 day input [0.43353535 0.43426114 0.43075918 0.42116055 0.40272536 0.41872913\n",
      " 0.42019887 0.42829148 0.44558354 0.43309987 0.42268471 0.42613224\n",
      " 0.42954348 0.44741617 0.48943969 0.48718972 0.48274423 0.49972783\n",
      " 0.48971186 0.48767963 0.47791769 0.47173029 0.46664973 0.47305487\n",
      " 0.49105458 0.4655066  0.44647264 0.46126071 0.45431122 0.4692263\n",
      " 0.48432283 0.48581071 0.48693569 0.50050806 0.50112498 0.49996371\n",
      " 0.49702424 0.47448831 0.50591523 0.5604587  0.53832196 0.51611264\n",
      " 0.52137466 0.49887502 0.48976629 0.48461315 0.49956452 0.51270141\n",
      " 0.53309624 0.57751488 0.61841341 0.69952098 0.68014226 0.62040935\n",
      " 0.62810277 0.6516911  0.65575555 0.64472347 0.65960226 0.6693642\n",
      " 0.67905356 0.66740456 0.65865873 0.69919437 0.71806503 0.81390623\n",
      " 0.82903905 0.79594281 0.78030193 0.75729424 0.73308898 0.74524604\n",
      " 0.75482654 0.7563507  0.7386776  0.71770213 0.75163304 0.77046741\n",
      " 0.74666134 0.73523008 0.71969807 0.70264189 0.71048048 0.70300479\n",
      " 0.69578313 0.69219045 0.69190514 0.68996733 0.68838406 0.68662298\n",
      " 0.68449628 0.68197238 0.67911071 0.6760242  0.67284846 0.66971576\n",
      " 0.66673326 0.66397309 0.66146874 0.65921926]\n",
      "14 day input [[0.6571972]]\n",
      "15 day input [0.43426114 0.43075918 0.42116055 0.40272536 0.41872913 0.42019887\n",
      " 0.42829148 0.44558354 0.43309987 0.42268471 0.42613224 0.42954348\n",
      " 0.44741617 0.48943969 0.48718972 0.48274423 0.49972783 0.48971186\n",
      " 0.48767963 0.47791769 0.47173029 0.46664973 0.47305487 0.49105458\n",
      " 0.4655066  0.44647264 0.46126071 0.45431122 0.4692263  0.48432283\n",
      " 0.48581071 0.48693569 0.50050806 0.50112498 0.49996371 0.49702424\n",
      " 0.47448831 0.50591523 0.5604587  0.53832196 0.51611264 0.52137466\n",
      " 0.49887502 0.48976629 0.48461315 0.49956452 0.51270141 0.53309624\n",
      " 0.57751488 0.61841341 0.69952098 0.68014226 0.62040935 0.62810277\n",
      " 0.6516911  0.65575555 0.64472347 0.65960226 0.6693642  0.67905356\n",
      " 0.66740456 0.65865873 0.69919437 0.71806503 0.81390623 0.82903905\n",
      " 0.79594281 0.78030193 0.75729424 0.73308898 0.74524604 0.75482654\n",
      " 0.7563507  0.7386776  0.71770213 0.75163304 0.77046741 0.74666134\n",
      " 0.73523008 0.71969807 0.70264189 0.71048048 0.70300479 0.69578313\n",
      " 0.69219045 0.69190514 0.68996733 0.68838406 0.68662298 0.68449628\n",
      " 0.68197238 0.67911071 0.6760242  0.67284846 0.66971576 0.66673326\n",
      " 0.66397309 0.66146874 0.65921926 0.65719718]\n",
      "15 day input [[0.65535915]]\n",
      "16 day input [0.43075918 0.42116055 0.40272536 0.41872913 0.42019887 0.42829148\n",
      " 0.44558354 0.43309987 0.42268471 0.42613224 0.42954348 0.44741617\n",
      " 0.48943969 0.48718972 0.48274423 0.49972783 0.48971186 0.48767963\n",
      " 0.47791769 0.47173029 0.46664973 0.47305487 0.49105458 0.4655066\n",
      " 0.44647264 0.46126071 0.45431122 0.4692263  0.48432283 0.48581071\n",
      " 0.48693569 0.50050806 0.50112498 0.49996371 0.49702424 0.47448831\n",
      " 0.50591523 0.5604587  0.53832196 0.51611264 0.52137466 0.49887502\n",
      " 0.48976629 0.48461315 0.49956452 0.51270141 0.53309624 0.57751488\n",
      " 0.61841341 0.69952098 0.68014226 0.62040935 0.62810277 0.6516911\n",
      " 0.65575555 0.64472347 0.65960226 0.6693642  0.67905356 0.66740456\n",
      " 0.65865873 0.69919437 0.71806503 0.81390623 0.82903905 0.79594281\n",
      " 0.78030193 0.75729424 0.73308898 0.74524604 0.75482654 0.7563507\n",
      " 0.7386776  0.71770213 0.75163304 0.77046741 0.74666134 0.73523008\n",
      " 0.71969807 0.70264189 0.71048048 0.70300479 0.69578313 0.69219045\n",
      " 0.69190514 0.68996733 0.68838406 0.68662298 0.68449628 0.68197238\n",
      " 0.67911071 0.6760242  0.67284846 0.66971576 0.66673326 0.66397309\n",
      " 0.66146874 0.65921926 0.65719718 0.65535915]\n",
      "16 day input [[0.65365523]]\n",
      "17 day input [0.42116055 0.40272536 0.41872913 0.42019887 0.42829148 0.44558354\n",
      " 0.43309987 0.42268471 0.42613224 0.42954348 0.44741617 0.48943969\n",
      " 0.48718972 0.48274423 0.49972783 0.48971186 0.48767963 0.47791769\n",
      " 0.47173029 0.46664973 0.47305487 0.49105458 0.4655066  0.44647264\n",
      " 0.46126071 0.45431122 0.4692263  0.48432283 0.48581071 0.48693569\n",
      " 0.50050806 0.50112498 0.49996371 0.49702424 0.47448831 0.50591523\n",
      " 0.5604587  0.53832196 0.51611264 0.52137466 0.49887502 0.48976629\n",
      " 0.48461315 0.49956452 0.51270141 0.53309624 0.57751488 0.61841341\n",
      " 0.69952098 0.68014226 0.62040935 0.62810277 0.6516911  0.65575555\n",
      " 0.64472347 0.65960226 0.6693642  0.67905356 0.66740456 0.65865873\n",
      " 0.69919437 0.71806503 0.81390623 0.82903905 0.79594281 0.78030193\n",
      " 0.75729424 0.73308898 0.74524604 0.75482654 0.7563507  0.7386776\n",
      " 0.71770213 0.75163304 0.77046741 0.74666134 0.73523008 0.71969807\n",
      " 0.70264189 0.71048048 0.70300479 0.69578313 0.69219045 0.69190514\n",
      " 0.68996733 0.68838406 0.68662298 0.68449628 0.68197238 0.67911071\n",
      " 0.6760242  0.67284846 0.66971576 0.66673326 0.66397309 0.66146874\n",
      " 0.65921926 0.65719718 0.65535915 0.65365523]\n",
      "17 day input [[0.6520384]]\n",
      "18 day input [0.40272536 0.41872913 0.42019887 0.42829148 0.44558354 0.43309987\n",
      " 0.42268471 0.42613224 0.42954348 0.44741617 0.48943969 0.48718972\n",
      " 0.48274423 0.49972783 0.48971186 0.48767963 0.47791769 0.47173029\n",
      " 0.46664973 0.47305487 0.49105458 0.4655066  0.44647264 0.46126071\n",
      " 0.45431122 0.4692263  0.48432283 0.48581071 0.48693569 0.50050806\n",
      " 0.50112498 0.49996371 0.49702424 0.47448831 0.50591523 0.5604587\n",
      " 0.53832196 0.51611264 0.52137466 0.49887502 0.48976629 0.48461315\n",
      " 0.49956452 0.51270141 0.53309624 0.57751488 0.61841341 0.69952098\n",
      " 0.68014226 0.62040935 0.62810277 0.6516911  0.65575555 0.64472347\n",
      " 0.65960226 0.6693642  0.67905356 0.66740456 0.65865873 0.69919437\n",
      " 0.71806503 0.81390623 0.82903905 0.79594281 0.78030193 0.75729424\n",
      " 0.73308898 0.74524604 0.75482654 0.7563507  0.7386776  0.71770213\n",
      " 0.75163304 0.77046741 0.74666134 0.73523008 0.71969807 0.70264189\n",
      " 0.71048048 0.70300479 0.69578313 0.69219045 0.69190514 0.68996733\n",
      " 0.68838406 0.68662298 0.68449628 0.68197238 0.67911071 0.6760242\n",
      " 0.67284846 0.66971576 0.66673326 0.66397309 0.66146874 0.65921926\n",
      " 0.65719718 0.65535915 0.65365523 0.6520384 ]\n",
      "18 day input [[0.6504698]]\n",
      "19 day input [0.41872913 0.42019887 0.42829148 0.44558354 0.43309987 0.42268471\n",
      " 0.42613224 0.42954348 0.44741617 0.48943969 0.48718972 0.48274423\n",
      " 0.49972783 0.48971186 0.48767963 0.47791769 0.47173029 0.46664973\n",
      " 0.47305487 0.49105458 0.4655066  0.44647264 0.46126071 0.45431122\n",
      " 0.4692263  0.48432283 0.48581071 0.48693569 0.50050806 0.50112498\n",
      " 0.49996371 0.49702424 0.47448831 0.50591523 0.5604587  0.53832196\n",
      " 0.51611264 0.52137466 0.49887502 0.48976629 0.48461315 0.49956452\n",
      " 0.51270141 0.53309624 0.57751488 0.61841341 0.69952098 0.68014226\n",
      " 0.62040935 0.62810277 0.6516911  0.65575555 0.64472347 0.65960226\n",
      " 0.6693642  0.67905356 0.66740456 0.65865873 0.69919437 0.71806503\n",
      " 0.81390623 0.82903905 0.79594281 0.78030193 0.75729424 0.73308898\n",
      " 0.74524604 0.75482654 0.7563507  0.7386776  0.71770213 0.75163304\n",
      " 0.77046741 0.74666134 0.73523008 0.71969807 0.70264189 0.71048048\n",
      " 0.70300479 0.69578313 0.69219045 0.69190514 0.68996733 0.68838406\n",
      " 0.68662298 0.68449628 0.68197238 0.67911071 0.6760242  0.67284846\n",
      " 0.66971576 0.66673326 0.66397309 0.66146874 0.65921926 0.65719718\n",
      " 0.65535915 0.65365523 0.6520384  0.65046978]\n",
      "19 day input [[0.64892274]]\n",
      "20 day input [0.42019887 0.42829148 0.44558354 0.43309987 0.42268471 0.42613224\n",
      " 0.42954348 0.44741617 0.48943969 0.48718972 0.48274423 0.49972783\n",
      " 0.48971186 0.48767963 0.47791769 0.47173029 0.46664973 0.47305487\n",
      " 0.49105458 0.4655066  0.44647264 0.46126071 0.45431122 0.4692263\n",
      " 0.48432283 0.48581071 0.48693569 0.50050806 0.50112498 0.49996371\n",
      " 0.49702424 0.47448831 0.50591523 0.5604587  0.53832196 0.51611264\n",
      " 0.52137466 0.49887502 0.48976629 0.48461315 0.49956452 0.51270141\n",
      " 0.53309624 0.57751488 0.61841341 0.69952098 0.68014226 0.62040935\n",
      " 0.62810277 0.6516911  0.65575555 0.64472347 0.65960226 0.6693642\n",
      " 0.67905356 0.66740456 0.65865873 0.69919437 0.71806503 0.81390623\n",
      " 0.82903905 0.79594281 0.78030193 0.75729424 0.73308898 0.74524604\n",
      " 0.75482654 0.7563507  0.7386776  0.71770213 0.75163304 0.77046741\n",
      " 0.74666134 0.73523008 0.71969807 0.70264189 0.71048048 0.70300479\n",
      " 0.69578313 0.69219045 0.69190514 0.68996733 0.68838406 0.68662298\n",
      " 0.68449628 0.68197238 0.67911071 0.6760242  0.67284846 0.66971576\n",
      " 0.66673326 0.66397309 0.66146874 0.65921926 0.65719718 0.65535915\n",
      " 0.65365523 0.6520384  0.65046978 0.64892274]\n",
      "20 day input [[0.6473829]]\n",
      "21 day input [0.42829148 0.44558354 0.43309987 0.42268471 0.42613224 0.42954348\n",
      " 0.44741617 0.48943969 0.48718972 0.48274423 0.49972783 0.48971186\n",
      " 0.48767963 0.47791769 0.47173029 0.46664973 0.47305487 0.49105458\n",
      " 0.4655066  0.44647264 0.46126071 0.45431122 0.4692263  0.48432283\n",
      " 0.48581071 0.48693569 0.50050806 0.50112498 0.49996371 0.49702424\n",
      " 0.47448831 0.50591523 0.5604587  0.53832196 0.51611264 0.52137466\n",
      " 0.49887502 0.48976629 0.48461315 0.49956452 0.51270141 0.53309624\n",
      " 0.57751488 0.61841341 0.69952098 0.68014226 0.62040935 0.62810277\n",
      " 0.6516911  0.65575555 0.64472347 0.65960226 0.6693642  0.67905356\n",
      " 0.66740456 0.65865873 0.69919437 0.71806503 0.81390623 0.82903905\n",
      " 0.79594281 0.78030193 0.75729424 0.73308898 0.74524604 0.75482654\n",
      " 0.7563507  0.7386776  0.71770213 0.75163304 0.77046741 0.74666134\n",
      " 0.73523008 0.71969807 0.70264189 0.71048048 0.70300479 0.69578313\n",
      " 0.69219045 0.69190514 0.68996733 0.68838406 0.68662298 0.68449628\n",
      " 0.68197238 0.67911071 0.6760242  0.67284846 0.66971576 0.66673326\n",
      " 0.66397309 0.66146874 0.65921926 0.65719718 0.65535915 0.65365523\n",
      " 0.6520384  0.65046978 0.64892274 0.64738292]\n",
      "21 day input [[0.64584637]]\n",
      "22 day input [0.44558354 0.43309987 0.42268471 0.42613224 0.42954348 0.44741617\n",
      " 0.48943969 0.48718972 0.48274423 0.49972783 0.48971186 0.48767963\n",
      " 0.47791769 0.47173029 0.46664973 0.47305487 0.49105458 0.4655066\n",
      " 0.44647264 0.46126071 0.45431122 0.4692263  0.48432283 0.48581071\n",
      " 0.48693569 0.50050806 0.50112498 0.49996371 0.49702424 0.47448831\n",
      " 0.50591523 0.5604587  0.53832196 0.51611264 0.52137466 0.49887502\n",
      " 0.48976629 0.48461315 0.49956452 0.51270141 0.53309624 0.57751488\n",
      " 0.61841341 0.69952098 0.68014226 0.62040935 0.62810277 0.6516911\n",
      " 0.65575555 0.64472347 0.65960226 0.6693642  0.67905356 0.66740456\n",
      " 0.65865873 0.69919437 0.71806503 0.81390623 0.82903905 0.79594281\n",
      " 0.78030193 0.75729424 0.73308898 0.74524604 0.75482654 0.7563507\n",
      " 0.7386776  0.71770213 0.75163304 0.77046741 0.74666134 0.73523008\n",
      " 0.71969807 0.70264189 0.71048048 0.70300479 0.69578313 0.69219045\n",
      " 0.69190514 0.68996733 0.68838406 0.68662298 0.68449628 0.68197238\n",
      " 0.67911071 0.6760242  0.67284846 0.66971576 0.66673326 0.66397309\n",
      " 0.66146874 0.65921926 0.65719718 0.65535915 0.65365523 0.6520384\n",
      " 0.65046978 0.64892274 0.64738292 0.64584637]\n",
      "22 day input [[0.6443181]]\n",
      "23 day input [0.43309987 0.42268471 0.42613224 0.42954348 0.44741617 0.48943969\n",
      " 0.48718972 0.48274423 0.49972783 0.48971186 0.48767963 0.47791769\n",
      " 0.47173029 0.46664973 0.47305487 0.49105458 0.4655066  0.44647264\n",
      " 0.46126071 0.45431122 0.4692263  0.48432283 0.48581071 0.48693569\n",
      " 0.50050806 0.50112498 0.49996371 0.49702424 0.47448831 0.50591523\n",
      " 0.5604587  0.53832196 0.51611264 0.52137466 0.49887502 0.48976629\n",
      " 0.48461315 0.49956452 0.51270141 0.53309624 0.57751488 0.61841341\n",
      " 0.69952098 0.68014226 0.62040935 0.62810277 0.6516911  0.65575555\n",
      " 0.64472347 0.65960226 0.6693642  0.67905356 0.66740456 0.65865873\n",
      " 0.69919437 0.71806503 0.81390623 0.82903905 0.79594281 0.78030193\n",
      " 0.75729424 0.73308898 0.74524604 0.75482654 0.7563507  0.7386776\n",
      " 0.71770213 0.75163304 0.77046741 0.74666134 0.73523008 0.71969807\n",
      " 0.70264189 0.71048048 0.70300479 0.69578313 0.69219045 0.69190514\n",
      " 0.68996733 0.68838406 0.68662298 0.68449628 0.68197238 0.67911071\n",
      " 0.6760242  0.67284846 0.66971576 0.66673326 0.66397309 0.66146874\n",
      " 0.65921926 0.65719718 0.65535915 0.65365523 0.6520384  0.65046978\n",
      " 0.64892274 0.64738292 0.64584637 0.6443181 ]\n",
      "23 day input [[0.6428078]]\n",
      "24 day input [0.42268471 0.42613224 0.42954348 0.44741617 0.48943969 0.48718972\n",
      " 0.48274423 0.49972783 0.48971186 0.48767963 0.47791769 0.47173029\n",
      " 0.46664973 0.47305487 0.49105458 0.4655066  0.44647264 0.46126071\n",
      " 0.45431122 0.4692263  0.48432283 0.48581071 0.48693569 0.50050806\n",
      " 0.50112498 0.49996371 0.49702424 0.47448831 0.50591523 0.5604587\n",
      " 0.53832196 0.51611264 0.52137466 0.49887502 0.48976629 0.48461315\n",
      " 0.49956452 0.51270141 0.53309624 0.57751488 0.61841341 0.69952098\n",
      " 0.68014226 0.62040935 0.62810277 0.6516911  0.65575555 0.64472347\n",
      " 0.65960226 0.6693642  0.67905356 0.66740456 0.65865873 0.69919437\n",
      " 0.71806503 0.81390623 0.82903905 0.79594281 0.78030193 0.75729424\n",
      " 0.73308898 0.74524604 0.75482654 0.7563507  0.7386776  0.71770213\n",
      " 0.75163304 0.77046741 0.74666134 0.73523008 0.71969807 0.70264189\n",
      " 0.71048048 0.70300479 0.69578313 0.69219045 0.69190514 0.68996733\n",
      " 0.68838406 0.68662298 0.68449628 0.68197238 0.67911071 0.6760242\n",
      " 0.67284846 0.66971576 0.66673326 0.66397309 0.66146874 0.65921926\n",
      " 0.65719718 0.65535915 0.65365523 0.6520384  0.65046978 0.64892274\n",
      " 0.64738292 0.64584637 0.6443181  0.64280778]\n",
      "24 day input [[0.6413272]]\n",
      "25 day input [0.42613224 0.42954348 0.44741617 0.48943969 0.48718972 0.48274423\n",
      " 0.49972783 0.48971186 0.48767963 0.47791769 0.47173029 0.46664973\n",
      " 0.47305487 0.49105458 0.4655066  0.44647264 0.46126071 0.45431122\n",
      " 0.4692263  0.48432283 0.48581071 0.48693569 0.50050806 0.50112498\n",
      " 0.49996371 0.49702424 0.47448831 0.50591523 0.5604587  0.53832196\n",
      " 0.51611264 0.52137466 0.49887502 0.48976629 0.48461315 0.49956452\n",
      " 0.51270141 0.53309624 0.57751488 0.61841341 0.69952098 0.68014226\n",
      " 0.62040935 0.62810277 0.6516911  0.65575555 0.64472347 0.65960226\n",
      " 0.6693642  0.67905356 0.66740456 0.65865873 0.69919437 0.71806503\n",
      " 0.81390623 0.82903905 0.79594281 0.78030193 0.75729424 0.73308898\n",
      " 0.74524604 0.75482654 0.7563507  0.7386776  0.71770213 0.75163304\n",
      " 0.77046741 0.74666134 0.73523008 0.71969807 0.70264189 0.71048048\n",
      " 0.70300479 0.69578313 0.69219045 0.69190514 0.68996733 0.68838406\n",
      " 0.68662298 0.68449628 0.68197238 0.67911071 0.6760242  0.67284846\n",
      " 0.66971576 0.66673326 0.66397309 0.66146874 0.65921926 0.65719718\n",
      " 0.65535915 0.65365523 0.6520384  0.65046978 0.64892274 0.64738292\n",
      " 0.64584637 0.6443181  0.64280778 0.6413272 ]\n",
      "25 day input [[0.63988686]]\n",
      "26 day input [0.42954348 0.44741617 0.48943969 0.48718972 0.48274423 0.49972783\n",
      " 0.48971186 0.48767963 0.47791769 0.47173029 0.46664973 0.47305487\n",
      " 0.49105458 0.4655066  0.44647264 0.46126071 0.45431122 0.4692263\n",
      " 0.48432283 0.48581071 0.48693569 0.50050806 0.50112498 0.49996371\n",
      " 0.49702424 0.47448831 0.50591523 0.5604587  0.53832196 0.51611264\n",
      " 0.52137466 0.49887502 0.48976629 0.48461315 0.49956452 0.51270141\n",
      " 0.53309624 0.57751488 0.61841341 0.69952098 0.68014226 0.62040935\n",
      " 0.62810277 0.6516911  0.65575555 0.64472347 0.65960226 0.6693642\n",
      " 0.67905356 0.66740456 0.65865873 0.69919437 0.71806503 0.81390623\n",
      " 0.82903905 0.79594281 0.78030193 0.75729424 0.73308898 0.74524604\n",
      " 0.75482654 0.7563507  0.7386776  0.71770213 0.75163304 0.77046741\n",
      " 0.74666134 0.73523008 0.71969807 0.70264189 0.71048048 0.70300479\n",
      " 0.69578313 0.69219045 0.69190514 0.68996733 0.68838406 0.68662298\n",
      " 0.68449628 0.68197238 0.67911071 0.6760242  0.67284846 0.66971576\n",
      " 0.66673326 0.66397309 0.66146874 0.65921926 0.65719718 0.65535915\n",
      " 0.65365523 0.6520384  0.65046978 0.64892274 0.64738292 0.64584637\n",
      " 0.6443181  0.64280778 0.6413272  0.63988686]\n",
      "26 day input [[0.63849497]]\n",
      "27 day input [0.44741617 0.48943969 0.48718972 0.48274423 0.49972783 0.48971186\n",
      " 0.48767963 0.47791769 0.47173029 0.46664973 0.47305487 0.49105458\n",
      " 0.4655066  0.44647264 0.46126071 0.45431122 0.4692263  0.48432283\n",
      " 0.48581071 0.48693569 0.50050806 0.50112498 0.49996371 0.49702424\n",
      " 0.47448831 0.50591523 0.5604587  0.53832196 0.51611264 0.52137466\n",
      " 0.49887502 0.48976629 0.48461315 0.49956452 0.51270141 0.53309624\n",
      " 0.57751488 0.61841341 0.69952098 0.68014226 0.62040935 0.62810277\n",
      " 0.6516911  0.65575555 0.64472347 0.65960226 0.6693642  0.67905356\n",
      " 0.66740456 0.65865873 0.69919437 0.71806503 0.81390623 0.82903905\n",
      " 0.79594281 0.78030193 0.75729424 0.73308898 0.74524604 0.75482654\n",
      " 0.7563507  0.7386776  0.71770213 0.75163304 0.77046741 0.74666134\n",
      " 0.73523008 0.71969807 0.70264189 0.71048048 0.70300479 0.69578313\n",
      " 0.69219045 0.69190514 0.68996733 0.68838406 0.68662298 0.68449628\n",
      " 0.68197238 0.67911071 0.6760242  0.67284846 0.66971576 0.66673326\n",
      " 0.66397309 0.66146874 0.65921926 0.65719718 0.65535915 0.65365523\n",
      " 0.6520384  0.65046978 0.64892274 0.64738292 0.64584637 0.6443181\n",
      " 0.64280778 0.6413272  0.63988686 0.63849497]\n",
      "27 day input [[0.63715667]]\n",
      "28 day input [0.48943969 0.48718972 0.48274423 0.49972783 0.48971186 0.48767963\n",
      " 0.47791769 0.47173029 0.46664973 0.47305487 0.49105458 0.4655066\n",
      " 0.44647264 0.46126071 0.45431122 0.4692263  0.48432283 0.48581071\n",
      " 0.48693569 0.50050806 0.50112498 0.49996371 0.49702424 0.47448831\n",
      " 0.50591523 0.5604587  0.53832196 0.51611264 0.52137466 0.49887502\n",
      " 0.48976629 0.48461315 0.49956452 0.51270141 0.53309624 0.57751488\n",
      " 0.61841341 0.69952098 0.68014226 0.62040935 0.62810277 0.6516911\n",
      " 0.65575555 0.64472347 0.65960226 0.6693642  0.67905356 0.66740456\n",
      " 0.65865873 0.69919437 0.71806503 0.81390623 0.82903905 0.79594281\n",
      " 0.78030193 0.75729424 0.73308898 0.74524604 0.75482654 0.7563507\n",
      " 0.7386776  0.71770213 0.75163304 0.77046741 0.74666134 0.73523008\n",
      " 0.71969807 0.70264189 0.71048048 0.70300479 0.69578313 0.69219045\n",
      " 0.69190514 0.68996733 0.68838406 0.68662298 0.68449628 0.68197238\n",
      " 0.67911071 0.6760242  0.67284846 0.66971576 0.66673326 0.66397309\n",
      " 0.66146874 0.65921926 0.65719718 0.65535915 0.65365523 0.6520384\n",
      " 0.65046978 0.64892274 0.64738292 0.64584637 0.6443181  0.64280778\n",
      " 0.6413272  0.63988686 0.63849497 0.63715667]\n",
      "28 day input [[0.6358724]]\n",
      "29 day input [0.48718972 0.48274423 0.49972783 0.48971186 0.48767963 0.47791769\n",
      " 0.47173029 0.46664973 0.47305487 0.49105458 0.4655066  0.44647264\n",
      " 0.46126071 0.45431122 0.4692263  0.48432283 0.48581071 0.48693569\n",
      " 0.50050806 0.50112498 0.49996371 0.49702424 0.47448831 0.50591523\n",
      " 0.5604587  0.53832196 0.51611264 0.52137466 0.49887502 0.48976629\n",
      " 0.48461315 0.49956452 0.51270141 0.53309624 0.57751488 0.61841341\n",
      " 0.69952098 0.68014226 0.62040935 0.62810277 0.6516911  0.65575555\n",
      " 0.64472347 0.65960226 0.6693642  0.67905356 0.66740456 0.65865873\n",
      " 0.69919437 0.71806503 0.81390623 0.82903905 0.79594281 0.78030193\n",
      " 0.75729424 0.73308898 0.74524604 0.75482654 0.7563507  0.7386776\n",
      " 0.71770213 0.75163304 0.77046741 0.74666134 0.73523008 0.71969807\n",
      " 0.70264189 0.71048048 0.70300479 0.69578313 0.69219045 0.69190514\n",
      " 0.68996733 0.68838406 0.68662298 0.68449628 0.68197238 0.67911071\n",
      " 0.6760242  0.67284846 0.66971576 0.66673326 0.66397309 0.66146874\n",
      " 0.65921926 0.65719718 0.65535915 0.65365523 0.6520384  0.65046978\n",
      " 0.64892274 0.64738292 0.64584637 0.6443181  0.64280778 0.6413272\n",
      " 0.63988686 0.63849497 0.63715667 0.63587242]\n",
      "29 day input [[0.6346403]]\n",
      "[[0.69190514087677], [0.6899673342704773], [0.6883840560913086], [0.6866229772567749], [0.684496283531189], [0.6819723844528198], [0.6791107058525085], [0.6760241985321045], [0.6728484630584717], [0.6697157621383667], [0.6667332649230957], [0.6639730930328369], [0.6614687442779541], [0.6592192649841309], [0.6571971774101257], [0.655359148979187], [0.6536552309989929], [0.6520383954048157], [0.6504697799682617], [0.6489227414131165], [0.647382915019989], [0.6458463668823242], [0.6443181037902832], [0.6428077816963196], [0.6413272023200989], [0.6398868560791016], [0.6384949684143066], [0.6371566653251648], [0.6358724236488342], [0.6346402764320374]]\n"
     ]
    }
   ],
   "source": [
    "from numpy import array\n",
    "\n",
    "lst_output = []\n",
    "n_step = 100\n",
    "i=0\n",
    "while(i<30):\n",
    "    if(len(temp_input)>100):\n",
    "        x_input = np.array(temp_input[1:])\n",
    "        print(\"{} day input {}\".format(i,x_input))\n",
    "        x_input = x_input.reshape(1,-1)\n",
    "        x_input = x_input.reshape((1, n_step, 1))\n",
    "        yhat = model.predict(x_input, verbose = 0)\n",
    "        print(\"{} day input {}\".format(i,yhat))\n",
    "        temp_input.extend(yhat[0].tolist())\n",
    "        temp_input = temp_input[1:]\n",
    "        lst_output.extend(yhat.tolist())\n",
    "        i = i+1\n",
    "    else:\n",
    "        x_input = x_input.reshape((1,n_step,1))\n",
    "        yhat = model.predict(x_input, verbose=0)\n",
    "        print(yhat[0])\n",
    "        temp_input.extend(yhat[0].tolist())\n",
    "        print(len(temp_input))\n",
    "        lst_output.extend(yhat.tolist())\n",
    "        i = i+1\n",
    "\n",
    "print(lst_output)\n"
   ]
  },
  {
   "cell_type": "code",
   "execution_count": 53,
   "id": "5b07ba6a-eacf-47ca-b0e2-3ea9df70931f",
   "metadata": {},
   "outputs": [],
   "source": [
    "day_new = np.arange(1,101)\n",
    "day_pred = np.arange(101,131)"
   ]
  },
  {
   "cell_type": "code",
   "execution_count": 57,
   "id": "995a9725-29de-4a98-b25e-5176152f65f8",
   "metadata": {},
   "outputs": [],
   "source": [
    "df3 = df1.tolist()\n",
    "df3.extend(lst_output)"
   ]
  },
  {
   "cell_type": "code",
   "execution_count": 58,
   "id": "119adcbc-eb1e-47a5-8826-c8cfdb6dd903",
   "metadata": {},
   "outputs": [
    {
     "ename": "ValueError",
     "evalue": "Found array with 0 sample(s) (shape=(0, 1)) while a minimum of 1 is required.",
     "output_type": "error",
     "traceback": [
      "\u001b[1;31m---------------------------------------------------------------------------\u001b[0m",
      "\u001b[1;31mValueError\u001b[0m                                Traceback (most recent call last)",
      "Cell \u001b[1;32mIn[58], line 1\u001b[0m\n\u001b[1;32m----> 1\u001b[0m plt\u001b[38;5;241m.\u001b[39mplot(day_new, scalar\u001b[38;5;241m.\u001b[39minverse_transform(df1[\u001b[38;5;241m1945\u001b[39m: ]))\n\u001b[0;32m      2\u001b[0m plt\u001b[38;5;241m.\u001b[39mplot(day_pred, scalar\u001b[38;5;241m.\u001b[39minverse_transform(lst_output))\n",
      "File \u001b[1;32m~\\New folder\\Lib\\site-packages\\sklearn\\preprocessing\\_data.py:566\u001b[0m, in \u001b[0;36mMinMaxScaler.inverse_transform\u001b[1;34m(self, X)\u001b[0m\n\u001b[0;32m    562\u001b[0m check_is_fitted(\u001b[38;5;28mself\u001b[39m)\n\u001b[0;32m    564\u001b[0m xp, _ \u001b[38;5;241m=\u001b[39m get_namespace(X)\n\u001b[1;32m--> 566\u001b[0m X \u001b[38;5;241m=\u001b[39m check_array(\n\u001b[0;32m    567\u001b[0m     X,\n\u001b[0;32m    568\u001b[0m     copy\u001b[38;5;241m=\u001b[39m\u001b[38;5;28mself\u001b[39m\u001b[38;5;241m.\u001b[39mcopy,\n\u001b[0;32m    569\u001b[0m     dtype\u001b[38;5;241m=\u001b[39m_array_api\u001b[38;5;241m.\u001b[39msupported_float_dtypes(xp),\n\u001b[0;32m    570\u001b[0m     force_writeable\u001b[38;5;241m=\u001b[39m\u001b[38;5;28;01mTrue\u001b[39;00m,\n\u001b[0;32m    571\u001b[0m     force_all_finite\u001b[38;5;241m=\u001b[39m\u001b[38;5;124m\"\u001b[39m\u001b[38;5;124mallow-nan\u001b[39m\u001b[38;5;124m\"\u001b[39m,\n\u001b[0;32m    572\u001b[0m )\n\u001b[0;32m    574\u001b[0m X \u001b[38;5;241m-\u001b[39m\u001b[38;5;241m=\u001b[39m \u001b[38;5;28mself\u001b[39m\u001b[38;5;241m.\u001b[39mmin_\n\u001b[0;32m    575\u001b[0m X \u001b[38;5;241m/\u001b[39m\u001b[38;5;241m=\u001b[39m \u001b[38;5;28mself\u001b[39m\u001b[38;5;241m.\u001b[39mscale_\n",
      "File \u001b[1;32m~\\New folder\\Lib\\site-packages\\sklearn\\utils\\validation.py:1087\u001b[0m, in \u001b[0;36mcheck_array\u001b[1;34m(array, accept_sparse, accept_large_sparse, dtype, order, copy, force_writeable, force_all_finite, ensure_2d, allow_nd, ensure_min_samples, ensure_min_features, estimator, input_name)\u001b[0m\n\u001b[0;32m   1085\u001b[0m     n_samples \u001b[38;5;241m=\u001b[39m _num_samples(array)\n\u001b[0;32m   1086\u001b[0m     \u001b[38;5;28;01mif\u001b[39;00m n_samples \u001b[38;5;241m<\u001b[39m ensure_min_samples:\n\u001b[1;32m-> 1087\u001b[0m         \u001b[38;5;28;01mraise\u001b[39;00m \u001b[38;5;167;01mValueError\u001b[39;00m(\n\u001b[0;32m   1088\u001b[0m             \u001b[38;5;124m\"\u001b[39m\u001b[38;5;124mFound array with \u001b[39m\u001b[38;5;132;01m%d\u001b[39;00m\u001b[38;5;124m sample(s) (shape=\u001b[39m\u001b[38;5;132;01m%s\u001b[39;00m\u001b[38;5;124m) while a\u001b[39m\u001b[38;5;124m\"\u001b[39m\n\u001b[0;32m   1089\u001b[0m             \u001b[38;5;124m\"\u001b[39m\u001b[38;5;124m minimum of \u001b[39m\u001b[38;5;132;01m%d\u001b[39;00m\u001b[38;5;124m is required\u001b[39m\u001b[38;5;132;01m%s\u001b[39;00m\u001b[38;5;124m.\u001b[39m\u001b[38;5;124m\"\u001b[39m\n\u001b[0;32m   1090\u001b[0m             \u001b[38;5;241m%\u001b[39m (n_samples, array\u001b[38;5;241m.\u001b[39mshape, ensure_min_samples, context)\n\u001b[0;32m   1091\u001b[0m         )\n\u001b[0;32m   1093\u001b[0m \u001b[38;5;28;01mif\u001b[39;00m ensure_min_features \u001b[38;5;241m>\u001b[39m \u001b[38;5;241m0\u001b[39m \u001b[38;5;129;01mand\u001b[39;00m array\u001b[38;5;241m.\u001b[39mndim \u001b[38;5;241m==\u001b[39m \u001b[38;5;241m2\u001b[39m:\n\u001b[0;32m   1094\u001b[0m     n_features \u001b[38;5;241m=\u001b[39m array\u001b[38;5;241m.\u001b[39mshape[\u001b[38;5;241m1\u001b[39m]\n",
      "\u001b[1;31mValueError\u001b[0m: Found array with 0 sample(s) (shape=(0, 1)) while a minimum of 1 is required."
     ]
    }
   ],
   "source": [
    "\n",
    "plt.plot(day_new)\n",
    "plt.plot(day_pred, scalar.inverse_transform(lst_output))\n"
   ]
  },
  {
   "cell_type": "code",
   "execution_count": null,
   "id": "8c44b657-ff52-475b-bd08-9eea059aa800",
   "metadata": {},
   "outputs": [],
   "source": []
  }
 ],
 "metadata": {
  "kernelspec": {
   "display_name": "Python 3 (ipykernel)",
   "language": "python",
   "name": "python3"
  },
  "language_info": {
   "codemirror_mode": {
    "name": "ipython",
    "version": 3
   },
   "file_extension": ".py",
   "mimetype": "text/x-python",
   "name": "python",
   "nbconvert_exporter": "python",
   "pygments_lexer": "ipython3",
   "version": "3.12.7"
  }
 },
 "nbformat": 4,
 "nbformat_minor": 5
}
