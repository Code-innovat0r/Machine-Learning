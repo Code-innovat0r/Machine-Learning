{
 "cells": [
  {
   "cell_type": "code",
   "execution_count": 3,
   "id": "2be8ec79-b948-4fb2-ba84-c81f6afcdc1a",
   "metadata": {},
   "outputs": [
    {
     "data": {
      "text/html": [
       "<div>\n",
       "<style scoped>\n",
       "    .dataframe tbody tr th:only-of-type {\n",
       "        vertical-align: middle;\n",
       "    }\n",
       "\n",
       "    .dataframe tbody tr th {\n",
       "        vertical-align: top;\n",
       "    }\n",
       "\n",
       "    .dataframe thead th {\n",
       "        text-align: right;\n",
       "    }\n",
       "</style>\n",
       "<table border=\"1\" class=\"dataframe\">\n",
       "  <thead>\n",
       "    <tr style=\"text-align: right;\">\n",
       "      <th></th>\n",
       "      <th>Ad 1</th>\n",
       "      <th>Ad 2</th>\n",
       "      <th>Ad 3</th>\n",
       "      <th>Ad 4</th>\n",
       "      <th>Ad 5</th>\n",
       "      <th>Ad 6</th>\n",
       "      <th>Ad 7</th>\n",
       "      <th>Ad 8</th>\n",
       "      <th>Ad 9</th>\n",
       "      <th>Ad 10</th>\n",
       "    </tr>\n",
       "  </thead>\n",
       "  <tbody>\n",
       "    <tr>\n",
       "      <th>0</th>\n",
       "      <td>1</td>\n",
       "      <td>0</td>\n",
       "      <td>0</td>\n",
       "      <td>0</td>\n",
       "      <td>1</td>\n",
       "      <td>0</td>\n",
       "      <td>0</td>\n",
       "      <td>0</td>\n",
       "      <td>1</td>\n",
       "      <td>0</td>\n",
       "    </tr>\n",
       "    <tr>\n",
       "      <th>1</th>\n",
       "      <td>0</td>\n",
       "      <td>0</td>\n",
       "      <td>0</td>\n",
       "      <td>0</td>\n",
       "      <td>0</td>\n",
       "      <td>0</td>\n",
       "      <td>0</td>\n",
       "      <td>0</td>\n",
       "      <td>1</td>\n",
       "      <td>0</td>\n",
       "    </tr>\n",
       "    <tr>\n",
       "      <th>2</th>\n",
       "      <td>0</td>\n",
       "      <td>0</td>\n",
       "      <td>0</td>\n",
       "      <td>0</td>\n",
       "      <td>0</td>\n",
       "      <td>0</td>\n",
       "      <td>0</td>\n",
       "      <td>0</td>\n",
       "      <td>0</td>\n",
       "      <td>0</td>\n",
       "    </tr>\n",
       "    <tr>\n",
       "      <th>3</th>\n",
       "      <td>0</td>\n",
       "      <td>1</td>\n",
       "      <td>0</td>\n",
       "      <td>0</td>\n",
       "      <td>0</td>\n",
       "      <td>0</td>\n",
       "      <td>0</td>\n",
       "      <td>1</td>\n",
       "      <td>0</td>\n",
       "      <td>0</td>\n",
       "    </tr>\n",
       "    <tr>\n",
       "      <th>4</th>\n",
       "      <td>0</td>\n",
       "      <td>0</td>\n",
       "      <td>0</td>\n",
       "      <td>0</td>\n",
       "      <td>0</td>\n",
       "      <td>0</td>\n",
       "      <td>0</td>\n",
       "      <td>0</td>\n",
       "      <td>0</td>\n",
       "      <td>0</td>\n",
       "    </tr>\n",
       "  </tbody>\n",
       "</table>\n",
       "</div>"
      ],
      "text/plain": [
       "   Ad 1  Ad 2  Ad 3  Ad 4  Ad 5  Ad 6  Ad 7  Ad 8  Ad 9  Ad 10\n",
       "0     1     0     0     0     1     0     0     0     1      0\n",
       "1     0     0     0     0     0     0     0     0     1      0\n",
       "2     0     0     0     0     0     0     0     0     0      0\n",
       "3     0     1     0     0     0     0     0     1     0      0\n",
       "4     0     0     0     0     0     0     0     0     0      0"
      ]
     },
     "execution_count": 3,
     "metadata": {},
     "output_type": "execute_result"
    }
   ],
   "source": [
    "import numpy as np\n",
    "import pandas as pd\n",
    "import matplotlib.pyplot as plt\n",
    "import random\n",
    "ds = pd.read_csv('Ads_CTR_Optimisation.csv')\n",
    "ds.head()\n"
   ]
  },
  {
   "cell_type": "code",
   "execution_count": 4,
   "id": "1cb8d111-c846-4837-a405-a621dfa08303",
   "metadata": {},
   "outputs": [
    {
     "data": {
      "text/plain": [
       "(10000, 10)"
      ]
     },
     "execution_count": 4,
     "metadata": {},
     "output_type": "execute_result"
    }
   ],
   "source": [
    "ds.shape\n",
    "# 10000 ->rows\n",
    "# 10 columns"
   ]
  },
  {
   "cell_type": "code",
   "execution_count": 25,
   "id": "53ff3d36-bd4e-4a24-bb12-94559961fa9d",
   "metadata": {},
   "outputs": [],
   "source": [
    "# total number of the add\n",
    "d = ds.shape[1]\n",
    "# no. of the time the ad i get the reward 1\n",
    "# [0]*d means create a array of the d length with the 0 as default value\n",
    "number_of_reward_1 = [0]*d\n",
    "# no. of the time the ad_i get the penalty 0\n",
    "number_of_reward_0 = [0]*d\n",
    "# Total no of the rounds\n",
    "N = ds.shape[0]\n",
    "# the ad algorithm will select \n",
    "ads_selected = []\n",
    "# total reward\n",
    "total_reward = 0\n",
    "# no. of the time ad_i is selected\n",
    "numbers_of_selection = [0]*d\n",
    "# for all the rounds N\n",
    "for i in range(0, N):\n",
    "    max_random = 0\n",
    "    ad = 0\n",
    "    # for the all 10 ad\n",
    "    for j in range(0, d):\n",
    "        # passing the rewards count to betavariate function to calucuate the beta, +1 is for handling the [0,0] in the initial condition as the function not except the 0 value and +1 to both the parameter will not make any considerable changes \n",
    "        random_beta = random.betavariate(number_of_reward_1[j] +1,\n",
    "                                        number_of_reward_0[j]+1)\n",
    "        # filtering out the ad that have the greates beta value till now and selecting the ad \n",
    "        if random_beta > max_random:\n",
    "            max_random = random_beta\n",
    "            ad = j\n",
    "    # appending the selected ad\n",
    "    ads_selected.append(ad)\n",
    "    # get the reward the selected ad get from user\n",
    "    reward = ds.values[i,ad]\n",
    "    total_reward += reward\n",
    "    # if reward is 1 update 1 count else update 0 count with 1\n",
    "    if reward == 1:\n",
    "        number_of_reward_1[ad] = number_of_reward_1[ad]+1\n",
    "    else:\n",
    "        number_of_reward_0[ad] = number_of_reward_0[ad]+1\n",
    "    # increment the selection count for the ad, as it is selected\n",
    "    numbers_of_selection[ad] = numbers_of_selection[ad]+1\n"
   ]
  },
  {
   "cell_type": "code",
   "execution_count": 26,
   "id": "a86a815a-7eaf-45dd-8413-31d34dc2daf4",
   "metadata": {},
   "outputs": [
    {
     "data": {
      "text/plain": [
       "2606"
      ]
     },
     "execution_count": 26,
     "metadata": {},
     "output_type": "execute_result"
    }
   ],
   "source": [
    "total_reward"
   ]
  },
  {
   "cell_type": "code",
   "execution_count": 27,
   "id": "66b62461-9438-4acc-95a8-588daa672c24",
   "metadata": {},
   "outputs": [
    {
     "data": {
      "image/png": "[encoded data removed]",
      "text/plain": [
       "<Figure size 640x480 with 1 Axes>"
      ]
     },
     "metadata": {},
     "output_type": "display_data"
    }
   ],
   "source": [
    "plt.bar(range(1,11), numbers_of_selection, align=\"center\")\n",
    "plt.xticks(range(1, 11))\n",
    "plt.show()"
   ]
  },
  {
   "cell_type": "code",
   "execution_count": null,
   "id": "c78fb408-bea2-4946-84b2-43c2c29412cd",
   "metadata": {},
   "outputs": [],
   "source": []
  }
 ],
 "metadata": {
  "kernelspec": {
   "display_name": "Python 3 (ipykernel)",
   "language": "python",
   "name": "python3"
  },
  "language_info": {
   "codemirror_mode": {
    "name": "ipython",
    "version": 3
   },
   "file_extension": ".py",
   "mimetype": "text/x-python",
   "name": "python",
   "nbconvert_exporter": "python",
   "pygments_lexer": "ipython3",
   "version": "3.12.7"
  }
 },
 "nbformat": 4,
 "nbformat_minor": 5
}
