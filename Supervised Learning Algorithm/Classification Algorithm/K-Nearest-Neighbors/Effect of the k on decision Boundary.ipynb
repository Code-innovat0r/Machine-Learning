{
 "cells": [
  {
   "cell_type": "code",
   "execution_count": 4,
   "id": "8b09f13e-a134-43e2-ba7a-3564c6f5663a",
   "metadata": {},
   "outputs": [],
   "source": [
    "import pandas as pd\n",
    "import numpy as np\n",
    "from sklearn.neighbors import KNeighborsClassifier\n",
    "import matplotlib.pyplot as plt "
   ]
  },
  {
   "cell_type": "code",
   "execution_count": 5,
   "id": "89c43f61-940d-433f-9bc8-5890c92582cc",
   "metadata": {},
   "outputs": [],
   "source": [
    "def Keffect(data, k):\n",
    "    data = pd.read_csv('toy_datasets/{}'.format(data))\n",
    "    x = data.iloc[:,:2].values\n",
    "    y = data.iloc[:,-1].values\n",
    "\n",
    "    knn = KNeighborsClassifier(n_neighbors=k)\n",
    "    knn.fit(x,y)\n",
    "\n",
    "    a = np.arange(start = x[:,0].min()-1, stop=x[:,0].max()+1, step=0.01)\n",
    "    b = np.arange(start = x[:,1].min()-1, stop=x[:,0].max()+1, step=0.01)\n",
    "\n",
    "    xx, yy = np.meshgrid(a,b)\n",
    "\n",
    "    input_array = np.array([xx.ravel(), yy.ravel()]).T\n",
    "    labels = knn.predict(input_array)\n",
    "\n",
    "    plt.contourf(xx, yy, labels.reshape(xx.shape), alpha=0.5)\n",
    "    plt.scatter(x[:,0], x[:,1], c=y)"
   ]
  },
  {
   "cell_type": "code",
   "execution_count": null,
   "id": "9ea9cf7c-ca62-49e5-a312-6f4acb8ed44e",
   "metadata": {},
   "outputs": [],
   "source": [
    "Keffect('ushape.csv',4)"
   ]
  },
  {
   "cell_type": "code",
   "execution_count": null,
   "id": "4a2ba63f-3f32-4e6d-a66b-bf848b79c4ce",
   "metadata": {},
   "outputs": [],
   "source": [
    "Keffect('concertriccir2.csv',1)"
   ]
  },
  {
   "cell_type": "code",
   "execution_count": null,
   "id": "2868cb25-d1a4-40cd-8811-88e9995f8fc5",
   "metadata": {},
   "outputs": [],
   "source": []
  }
 ],
 "metadata": {
  "kernelspec": {
   "display_name": "Python 3 (ipykernel)",
   "language": "python",
   "name": "python3"
  },
  "language_info": {
   "codemirror_mode": {
    "name": "ipython",
    "version": 3
   },
   "file_extension": ".py",
   "mimetype": "text/x-python",
   "name": "python",
   "nbconvert_exporter": "python",
   "pygments_lexer": "ipython3",
   "version": "3.12.7"
  }
 },
 "nbformat": 4,
 "nbformat_minor": 5
}
