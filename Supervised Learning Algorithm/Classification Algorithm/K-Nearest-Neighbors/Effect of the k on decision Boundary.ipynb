{
 "cells": [
  {
   "cell_type": "code",
   "execution_count": 1,
   "id": "8b09f13e-a134-43e2-ba7a-3564c6f5663a",
   "metadata": {},
   "outputs": [],
   "source": [
    "import pandas as pd\n",
    "import numpy as np\n",
    "from sklearn.neighbors import KNeighborsClassifier"
   ]
  },
  {
   "cell_type": "code",
   "execution_count": null,
   "id": "89c43f61-940d-433f-9bc8-5890c92582cc",
   "metadata": {},
   "outputs": [],
   "source": [
    "def Keffect(data, k):\n",
    "    data = pd.read_csv('toy_')"
   ]
  }
 ],
 "metadata": {
  "kernelspec": {
   "display_name": "Python 3 (ipykernel)",
   "language": "python",
   "name": "python3"
  },
  "language_info": {
   "codemirror_mode": {
    "name": "ipython",
    "version": 3
   },
   "file_extension": ".py",
   "mimetype": "text/x-python",
   "name": "python",
   "nbconvert_exporter": "python",
   "pygments_lexer": "ipython3",
   "version": "3.12.7"
  }
 },
 "nbformat": 4,
 "nbformat_minor": 5
}
