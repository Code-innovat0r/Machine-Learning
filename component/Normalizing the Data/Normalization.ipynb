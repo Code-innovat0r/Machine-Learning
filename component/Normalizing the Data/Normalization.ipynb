{
 "cells": [
  {
   "cell_type": "code",
   "execution_count": 1,
   "id": "4e5d91d1-235f-4ba0-9cbb-108a4f0c6fc3",
   "metadata": {},
   "outputs": [],
   "source": [
    "# Import pandas\n",
    "import pandas as pd"
   ]
  },
  {
   "cell_type": "code",
   "execution_count": 27,
   "id": "dd1b1771-1688-40b6-a4bc-b68d75c40944",
   "metadata": {},
   "outputs": [],
   "source": [
    "# reating the dataframe\n",
    "df = pd.DataFrame([\n",
    "    [25000, 200, 30.5],\n",
    "    [18000, 150, 12.5],\n",
    "    [9000, 100, 25.7],\n",
    "    [40000, 300, 21.2]\n",
    "    ],\n",
    "    columns = ['A','B','C']\n",
    "                 )\n",
    "            "
   ]
  },
  {
   "cell_type": "code",
   "execution_count": 28,
   "id": "77a882cf-a3f5-4185-b501-4b578f482b6c",
   "metadata": {},
   "outputs": [
    {
     "data": {
      "text/html": [
       "<div>\n",
       "<style scoped>\n",
       "    .dataframe tbody tr th:only-of-type {\n",
       "        vertical-align: middle;\n",
       "    }\n",
       "\n",
       "    .dataframe tbody tr th {\n",
       "        vertical-align: top;\n",
       "    }\n",
       "\n",
       "    .dataframe thead th {\n",
       "        text-align: right;\n",
       "    }\n",
       "</style>\n",
       "<table border=\"1\" class=\"dataframe\">\n",
       "  <thead>\n",
       "    <tr style=\"text-align: right;\">\n",
       "      <th></th>\n",
       "      <th>A</th>\n",
       "      <th>B</th>\n",
       "      <th>C</th>\n",
       "    </tr>\n",
       "  </thead>\n",
       "  <tbody>\n",
       "    <tr>\n",
       "      <th>0</th>\n",
       "      <td>25000</td>\n",
       "      <td>200</td>\n",
       "      <td>30.5</td>\n",
       "    </tr>\n",
       "    <tr>\n",
       "      <th>1</th>\n",
       "      <td>18000</td>\n",
       "      <td>150</td>\n",
       "      <td>12.5</td>\n",
       "    </tr>\n",
       "    <tr>\n",
       "      <th>2</th>\n",
       "      <td>9000</td>\n",
       "      <td>100</td>\n",
       "      <td>25.7</td>\n",
       "    </tr>\n",
       "    <tr>\n",
       "      <th>3</th>\n",
       "      <td>40000</td>\n",
       "      <td>300</td>\n",
       "      <td>21.2</td>\n",
       "    </tr>\n",
       "  </tbody>\n",
       "</table>\n",
       "</div>"
      ],
      "text/plain": [
       "       A    B     C\n",
       "0  25000  200  30.5\n",
       "1  18000  150  12.5\n",
       "2   9000  100  25.7\n",
       "3  40000  300  21.2"
      ]
     },
     "metadata": {},
     "output_type": "display_data"
    }
   ],
   "source": [
    "# Display the data\n",
    "display(df)"
   ]
  },
  {
   "cell_type": "code",
   "execution_count": 29,
   "id": "cf290ef7-e74f-403e-918e-efea8daecff3",
   "metadata": {},
   "outputs": [
    {
     "data": {
      "text/plain": [
       "<Axes: >"
      ]
     },
     "execution_count": 29,
     "metadata": {},
     "output_type": "execute_result"
    },
    {
     "data": {
      "image/png": "[encoded data removed]",
      "text/plain": [
       "<Figure size 640x480 with 1 Axes>"
      ]
     },
     "metadata": {},
     "output_type": "display_data"
    }
   ],
   "source": [
    "# visualising the data on the graph notice that B,C or even not visible in front of the 'A'\n",
    "import matplotlib.pyplot as plt\n",
    "df.plot(kind = 'bar')"
   ]
  },
  {
   "cell_type": "code",
   "execution_count": 30,
   "id": "a777ebb0-a2d4-4288-b446-1485d5e1f866",
   "metadata": {},
   "outputs": [],
   "source": [
    "# Technique 1 of normalization\n"
   ]
  },
  {
   "cell_type": "code",
   "execution_count": 31,
   "id": "8fc287d8-700b-4a02-a9fa-754d1b0df05b",
   "metadata": {},
   "outputs": [],
   "source": [
    "# Creating a copy of the dataframe\n",
    "df_copy_1 = df.copy()"
   ]
  },
  {
   "cell_type": "code",
   "execution_count": 32,
   "id": "bd5d0ce9-e320-410c-9995-29fe054a0191",
   "metadata": {},
   "outputs": [
    {
     "data": {
      "text/html": [
       "<div>\n",
       "<style scoped>\n",
       "    .dataframe tbody tr th:only-of-type {\n",
       "        vertical-align: middle;\n",
       "    }\n",
       "\n",
       "    .dataframe tbody tr th {\n",
       "        vertical-align: top;\n",
       "    }\n",
       "\n",
       "    .dataframe thead th {\n",
       "        text-align: right;\n",
       "    }\n",
       "</style>\n",
       "<table border=\"1\" class=\"dataframe\">\n",
       "  <thead>\n",
       "    <tr style=\"text-align: right;\">\n",
       "      <th></th>\n",
       "      <th>A</th>\n",
       "      <th>B</th>\n",
       "      <th>C</th>\n",
       "    </tr>\n",
       "  </thead>\n",
       "  <tbody>\n",
       "    <tr>\n",
       "      <th>0</th>\n",
       "      <td>25000</td>\n",
       "      <td>200</td>\n",
       "      <td>30.5</td>\n",
       "    </tr>\n",
       "    <tr>\n",
       "      <th>1</th>\n",
       "      <td>18000</td>\n",
       "      <td>150</td>\n",
       "      <td>12.5</td>\n",
       "    </tr>\n",
       "    <tr>\n",
       "      <th>2</th>\n",
       "      <td>9000</td>\n",
       "      <td>100</td>\n",
       "      <td>25.7</td>\n",
       "    </tr>\n",
       "    <tr>\n",
       "      <th>3</th>\n",
       "      <td>40000</td>\n",
       "      <td>300</td>\n",
       "      <td>21.2</td>\n",
       "    </tr>\n",
       "  </tbody>\n",
       "</table>\n",
       "</div>"
      ],
      "text/plain": [
       "       A    B     C\n",
       "0  25000  200  30.5\n",
       "1  18000  150  12.5\n",
       "2   9000  100  25.7\n",
       "3  40000  300  21.2"
      ]
     },
     "metadata": {},
     "output_type": "display_data"
    }
   ],
   "source": [
    "display(df)"
   ]
  },
  {
   "cell_type": "code",
   "execution_count": 33,
   "id": "2c45f159-0a14-491e-9d9e-48e9ba009451",
   "metadata": {},
   "outputs": [],
   "source": [
    "# Apply Maximum Absolute Scalling \n",
    "for col in df_copy_1.columns:\n",
    "    df_copy_1[col] = df_copy_1[col]/ df_copy_1[col].abs().max()"
   ]
  },
  {
   "cell_type": "code",
   "execution_count": 34,
   "id": "30baa057-fabe-4389-805c-5206796a19b4",
   "metadata": {},
   "outputs": [
    {
     "data": {
      "text/html": [
       "<div>\n",
       "<style scoped>\n",
       "    .dataframe tbody tr th:only-of-type {\n",
       "        vertical-align: middle;\n",
       "    }\n",
       "\n",
       "    .dataframe tbody tr th {\n",
       "        vertical-align: top;\n",
       "    }\n",
       "\n",
       "    .dataframe thead th {\n",
       "        text-align: right;\n",
       "    }\n",
       "</style>\n",
       "<table border=\"1\" class=\"dataframe\">\n",
       "  <thead>\n",
       "    <tr style=\"text-align: right;\">\n",
       "      <th></th>\n",
       "      <th>A</th>\n",
       "      <th>B</th>\n",
       "      <th>C</th>\n",
       "    </tr>\n",
       "  </thead>\n",
       "  <tbody>\n",
       "    <tr>\n",
       "      <th>0</th>\n",
       "      <td>0.625</td>\n",
       "      <td>0.666667</td>\n",
       "      <td>1.000000</td>\n",
       "    </tr>\n",
       "    <tr>\n",
       "      <th>1</th>\n",
       "      <td>0.450</td>\n",
       "      <td>0.500000</td>\n",
       "      <td>0.409836</td>\n",
       "    </tr>\n",
       "    <tr>\n",
       "      <th>2</th>\n",
       "      <td>0.225</td>\n",
       "      <td>0.333333</td>\n",
       "      <td>0.842623</td>\n",
       "    </tr>\n",
       "    <tr>\n",
       "      <th>3</th>\n",
       "      <td>1.000</td>\n",
       "      <td>1.000000</td>\n",
       "      <td>0.695082</td>\n",
       "    </tr>\n",
       "  </tbody>\n",
       "</table>\n",
       "</div>"
      ],
      "text/plain": [
       "       A         B         C\n",
       "0  0.625  0.666667  1.000000\n",
       "1  0.450  0.500000  0.409836\n",
       "2  0.225  0.333333  0.842623\n",
       "3  1.000  1.000000  0.695082"
      ]
     },
     "metadata": {},
     "output_type": "display_data"
    }
   ],
   "source": [
    "# displaying the data\n",
    "display(df_copy_1)"
   ]
  },
  {
   "cell_type": "code",
   "execution_count": 35,
   "id": "779b73b0-eb01-4896-9627-09f19e372285",
   "metadata": {},
   "outputs": [
    {
     "data": {
      "text/plain": [
       "A    40000.0\n",
       "B      300.0\n",
       "C       30.5\n",
       "dtype: float64"
      ]
     },
     "execution_count": 35,
     "metadata": {},
     "output_type": "execute_result"
    }
   ],
   "source": [
    "df.abs().max()"
   ]
  },
  {
   "cell_type": "code",
   "execution_count": 37,
   "id": "5b5989bf-99b9-40af-9093-5786ff48c985",
   "metadata": {},
   "outputs": [
    {
     "data": {
      "text/plain": [
       "<Axes: >"
      ]
     },
     "execution_count": 37,
     "metadata": {},
     "output_type": "execute_result"
    },
    {
     "data": {
      "image/png": "[encoded data removed]",
      "text/plain": [
       "<Figure size 640x480 with 1 Axes>"
      ]
     },
     "metadata": {},
     "output_type": "display_data"
    }
   ],
   "source": [
    "df_copy_1.plot(kind= \"bar\")"
   ]
  },
  {
   "cell_type": "code",
   "execution_count": 39,
   "id": "6875256c-9a15-4318-b5e3-669df48d7341",
   "metadata": {},
   "outputs": [],
   "source": [
    "# Technique 2 MIN-MAX Feature Scaling"
   ]
  },
  {
   "cell_type": "code",
   "execution_count": 41,
   "id": "d9355739-eb4e-4141-85e6-ef3dc03efda5",
   "metadata": {},
   "outputs": [],
   "source": [
    "# creating one more copy of the data for the second operation\n",
    "df_copy_2 = df.copy()"
   ]
  },
  {
   "cell_type": "code",
   "execution_count": 42,
   "id": "3144e4b1-14f8-4e44-8626-faab62543531",
   "metadata": {},
   "outputs": [
    {
     "data": {
      "text/html": [
       "<div>\n",
       "<style scoped>\n",
       "    .dataframe tbody tr th:only-of-type {\n",
       "        vertical-align: middle;\n",
       "    }\n",
       "\n",
       "    .dataframe tbody tr th {\n",
       "        vertical-align: top;\n",
       "    }\n",
       "\n",
       "    .dataframe thead th {\n",
       "        text-align: right;\n",
       "    }\n",
       "</style>\n",
       "<table border=\"1\" class=\"dataframe\">\n",
       "  <thead>\n",
       "    <tr style=\"text-align: right;\">\n",
       "      <th></th>\n",
       "      <th>A</th>\n",
       "      <th>B</th>\n",
       "      <th>C</th>\n",
       "    </tr>\n",
       "  </thead>\n",
       "  <tbody>\n",
       "    <tr>\n",
       "      <th>0</th>\n",
       "      <td>25000</td>\n",
       "      <td>200</td>\n",
       "      <td>30.5</td>\n",
       "    </tr>\n",
       "    <tr>\n",
       "      <th>1</th>\n",
       "      <td>18000</td>\n",
       "      <td>150</td>\n",
       "      <td>12.5</td>\n",
       "    </tr>\n",
       "    <tr>\n",
       "      <th>2</th>\n",
       "      <td>9000</td>\n",
       "      <td>100</td>\n",
       "      <td>25.7</td>\n",
       "    </tr>\n",
       "    <tr>\n",
       "      <th>3</th>\n",
       "      <td>40000</td>\n",
       "      <td>300</td>\n",
       "      <td>21.2</td>\n",
       "    </tr>\n",
       "  </tbody>\n",
       "</table>\n",
       "</div>"
      ],
      "text/plain": [
       "       A    B     C\n",
       "0  25000  200  30.5\n",
       "1  18000  150  12.5\n",
       "2   9000  100  25.7\n",
       "3  40000  300  21.2"
      ]
     },
     "metadata": {},
     "output_type": "display_data"
    }
   ],
   "source": [
    "display(df_copy_2)"
   ]
  },
  {
   "cell_type": "code",
   "execution_count": 43,
   "id": "ad10dc8b-ade2-4fb2-9354-2182b3669aac",
   "metadata": {},
   "outputs": [],
   "source": [
    "for col in df_copy_2.columns:\n",
    "    df_copy_2[col] = (df_copy_2[col] - df_copy_2[col].min())/(df_copy_2[col].max() - df_copy_2[col].min())"
   ]
  },
  {
   "cell_type": "code",
   "execution_count": 44,
   "id": "26b2b453-d8de-465b-9893-8a3b8622aaa9",
   "metadata": {},
   "outputs": [
    {
     "data": {
      "text/html": [
       "<div>\n",
       "<style scoped>\n",
       "    .dataframe tbody tr th:only-of-type {\n",
       "        vertical-align: middle;\n",
       "    }\n",
       "\n",
       "    .dataframe tbody tr th {\n",
       "        vertical-align: top;\n",
       "    }\n",
       "\n",
       "    .dataframe thead th {\n",
       "        text-align: right;\n",
       "    }\n",
       "</style>\n",
       "<table border=\"1\" class=\"dataframe\">\n",
       "  <thead>\n",
       "    <tr style=\"text-align: right;\">\n",
       "      <th></th>\n",
       "      <th>A</th>\n",
       "      <th>B</th>\n",
       "      <th>C</th>\n",
       "    </tr>\n",
       "  </thead>\n",
       "  <tbody>\n",
       "    <tr>\n",
       "      <th>0</th>\n",
       "      <td>0.516129</td>\n",
       "      <td>0.50</td>\n",
       "      <td>1.000000</td>\n",
       "    </tr>\n",
       "    <tr>\n",
       "      <th>1</th>\n",
       "      <td>0.290323</td>\n",
       "      <td>0.25</td>\n",
       "      <td>0.000000</td>\n",
       "    </tr>\n",
       "    <tr>\n",
       "      <th>2</th>\n",
       "      <td>0.000000</td>\n",
       "      <td>0.00</td>\n",
       "      <td>0.733333</td>\n",
       "    </tr>\n",
       "    <tr>\n",
       "      <th>3</th>\n",
       "      <td>1.000000</td>\n",
       "      <td>1.00</td>\n",
       "      <td>0.483333</td>\n",
       "    </tr>\n",
       "  </tbody>\n",
       "</table>\n",
       "</div>"
      ],
      "text/plain": [
       "          A     B         C\n",
       "0  0.516129  0.50  1.000000\n",
       "1  0.290323  0.25  0.000000\n",
       "2  0.000000  0.00  0.733333\n",
       "3  1.000000  1.00  0.483333"
      ]
     },
     "metadata": {},
     "output_type": "display_data"
    }
   ],
   "source": [
    "display(df_copy_2)"
   ]
  },
  {
   "cell_type": "code",
   "execution_count": 46,
   "id": "9d46ad42-ac13-4f21-a13c-8cc0c33617f8",
   "metadata": {},
   "outputs": [
    {
     "data": {
      "text/plain": [
       "<Axes: >"
      ]
     },
     "execution_count": 46,
     "metadata": {},
     "output_type": "execute_result"
    },
    {
     "data": {
      "image/png": "[encoded data removed]",
      "text/plain": [
       "<Figure size 640x480 with 1 Axes>"
      ]
     },
     "metadata": {},
     "output_type": "display_data"
    }
   ],
   "source": [
    "df_copy_2.plot(kind = \"bar\")"
   ]
  },
  {
   "cell_type": "code",
   "execution_count": 47,
   "id": "03cbb38c-0d8a-4a6e-88ae-5c4a72c0a7ea",
   "metadata": {},
   "outputs": [],
   "source": [
    "# Technique 3 Z-SCORE Method"
   ]
  },
  {
   "cell_type": "code",
   "execution_count": 49,
   "id": "d721407f-e04c-4255-969b-4e4115bbc2b5",
   "metadata": {},
   "outputs": [],
   "source": [
    "# creating the thisrd copy of the original dataset\n",
    "df_copy_3 = df.copy()"
   ]
  },
  {
   "cell_type": "code",
   "execution_count": 50,
   "id": "4e2f5ef5-852c-4f84-a286-c8d3e62ba0c2",
   "metadata": {},
   "outputs": [],
   "source": [
    "for col in df_copy_3.columns:\n",
    "    df_copy_3[col] = (df_copy_3[col] - df_copy_3[col].mean())/ df_copy_3[col].std()"
   ]
  },
  {
   "cell_type": "code",
   "execution_count": 51,
   "id": "ed961382-043e-49bb-ba9f-e7601816c874",
   "metadata": {},
   "outputs": [
    {
     "data": {
      "text/html": [
       "<div>\n",
       "<style scoped>\n",
       "    .dataframe tbody tr th:only-of-type {\n",
       "        vertical-align: middle;\n",
       "    }\n",
       "\n",
       "    .dataframe tbody tr th {\n",
       "        vertical-align: top;\n",
       "    }\n",
       "\n",
       "    .dataframe thead th {\n",
       "        text-align: right;\n",
       "    }\n",
       "</style>\n",
       "<table border=\"1\" class=\"dataframe\">\n",
       "  <thead>\n",
       "    <tr style=\"text-align: right;\">\n",
       "      <th></th>\n",
       "      <th>A</th>\n",
       "      <th>B</th>\n",
       "      <th>C</th>\n",
       "    </tr>\n",
       "  </thead>\n",
       "  <tbody>\n",
       "    <tr>\n",
       "      <th>0</th>\n",
       "      <td>0.152795</td>\n",
       "      <td>0.146385</td>\n",
       "      <td>1.047946</td>\n",
       "    </tr>\n",
       "    <tr>\n",
       "      <th>1</th>\n",
       "      <td>-0.381987</td>\n",
       "      <td>-0.439155</td>\n",
       "      <td>-1.302587</td>\n",
       "    </tr>\n",
       "    <tr>\n",
       "      <th>2</th>\n",
       "      <td>-1.069565</td>\n",
       "      <td>-1.024695</td>\n",
       "      <td>0.421137</td>\n",
       "    </tr>\n",
       "    <tr>\n",
       "      <th>3</th>\n",
       "      <td>1.298757</td>\n",
       "      <td>1.317465</td>\n",
       "      <td>-0.166496</td>\n",
       "    </tr>\n",
       "  </tbody>\n",
       "</table>\n",
       "</div>"
      ],
      "text/plain": [
       "          A         B         C\n",
       "0  0.152795  0.146385  1.047946\n",
       "1 -0.381987 -0.439155 -1.302587\n",
       "2 -1.069565 -1.024695  0.421137\n",
       "3  1.298757  1.317465 -0.166496"
      ]
     },
     "metadata": {},
     "output_type": "display_data"
    }
   ],
   "source": [
    "display(df_copy_3)"
   ]
  },
  {
   "cell_type": "code",
   "execution_count": 52,
   "id": "ecc20f0e-145f-41f9-9b66-77400c38da72",
   "metadata": {},
   "outputs": [
    {
     "data": {
      "text/plain": [
       "<Axes: >"
      ]
     },
     "execution_count": 52,
     "metadata": {},
     "output_type": "execute_result"
    },
    {
     "data": {
      "image/png": "[encoded data removed]",
      "text/plain": [
       "<Figure size 640x480 with 1 Axes>"
      ]
     },
     "metadata": {},
     "output_type": "display_data"
    }
   ],
   "source": [
    "df_copy_3.plot(kind = \"bar\")"
   ]
  },
  {
   "cell_type": "code",
   "execution_count": null,
   "id": "2c719c6e-2374-4ef8-8651-1fa61026402a",
   "metadata": {},
   "outputs": [],
   "source": []
  }
 ],
 "metadata": {
  "kernelspec": {
   "display_name": "Python 3 (ipykernel)",
   "language": "python",
   "name": "python3"
  },
  "language_info": {
   "codemirror_mode": {
    "name": "ipython",
    "version": 3
   },
   "file_extension": ".py",
   "mimetype": "text/x-python",
   "name": "python",
   "nbconvert_exporter": "python",
   "pygments_lexer": "ipython3",
   "version": "3.12.7"
  }
 },
 "nbformat": 4,
 "nbformat_minor": 5
}
